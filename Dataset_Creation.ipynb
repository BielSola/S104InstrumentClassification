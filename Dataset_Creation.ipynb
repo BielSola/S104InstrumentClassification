{
 "cells": [
  {
   "cell_type": "markdown",
   "id": "cdc769a2",
   "metadata": {
    "id": "cdc769a2"
   },
   "source": [
    "## 1. Dataset Creation"
   ]
  },
  {
   "cell_type": "code",
   "execution_count": 1,
   "id": "be66d91f",
   "metadata": {
    "executionInfo": {
     "elapsed": 11,
     "status": "ok",
     "timestamp": 1743587033041,
     "user": {
      "displayName": "BIEL SOLÀ GRÀCIA",
      "userId": "07274656506182083730"
     },
     "user_tz": -120
    },
    "id": "be66d91f"
   },
   "outputs": [],
   "source": [
    "%load_ext autoreload\n",
    "%autoreload 2"
   ]
  },
  {
   "cell_type": "markdown",
   "id": "ccfc91d9",
   "metadata": {
    "id": "ccfc91d9"
   },
   "source": [
    "This notebook should serve as a guide to the creation of your Carnatic Music Instrument dataset. We will start with the loading of the dataset using the mirdata API, extract the relevant sections and instruments, apply any relevant processing steps, and store the dataset in an intuitive and accessible format.\n",
    "\n",
    "Typical Carnatic Music ensembles contain a wide-range of instruments. For this task we are going to focus on:\n",
    "\n",
    "- Voice\n",
    "- Violin\n",
    "- Mridangam\n",
    "\n",
    "You can refer to the instrumentation section of the [compIAM tutorial](https://mtg.github.io/IAM-tutorial-ismir22/indian_art_music/carnatic-music.html) for more information.\n",
    "\n",
    "The final dataset will be a collection of short audios corresponding to each of these instruments. They will be organised such that each can be retrieved according to the instrument they contain, the performer, the raga and a unique identifier (for reproducibility later).\n",
    "\n",
    "It is up to you to fill in each subsection with the relevant code to perform that task. If possible, try and split the sections amongst the project group to work in parallel. When the task is complete, you should try and abstract the code into .py files so that it can be ran without a python notebook."
   ]
  },
  {
   "cell_type": "markdown",
   "id": "a0ee5df1",
   "metadata": {
    "id": "a0ee5df1"
   },
   "source": [
    "### Explore Dataset"
   ]
  },
  {
   "cell_type": "markdown",
   "id": "b2399dd0",
   "metadata": {
    "id": "b2399dd0"
   },
   "source": [
    "You can access the Saraga Carnatic dataset using the [mirdata API](https://github.com/mir-dataset-loaders/mirdata). You should already have the dataset downloaded on your machine in the mirdata repository."
   ]
  },
  {
   "cell_type": "code",
   "execution_count": 2,
   "id": "ZNCjMYsN7wNq",
   "metadata": {
    "executionInfo": {
     "elapsed": 7,
     "status": "ok",
     "timestamp": 1743587839105,
     "user": {
      "displayName": "BIEL SOLÀ GRÀCIA",
      "userId": "07274656506182083730"
     },
     "user_tz": -120
    },
    "id": "ZNCjMYsN7wNq"
   },
   "outputs": [],
   "source": [
    "import mirdata"
   ]
  },
  {
   "cell_type": "code",
   "execution_count": 1,
   "id": "SL_i2_zE88m4",
   "metadata": {
    "colab": {
     "base_uri": "https://localhost:8080/",
     "height": 356
    },
    "executionInfo": {
     "elapsed": 304,
     "status": "error",
     "timestamp": 1743588384253,
     "user": {
      "displayName": "BIEL SOLÀ GRÀCIA",
      "userId": "07274656506182083730"
     },
     "user_tz": -120
    },
    "id": "SL_i2_zE88m4",
    "outputId": "0ce63fb5-6df8-421b-8c9b-78089f36640c"
   },
   "outputs": [
    {
     "ename": "NameError",
     "evalue": "name 'mirdata' is not defined",
     "output_type": "error",
     "traceback": [
      "\u001b[31m---------------------------------------------------------------------------\u001b[39m",
      "\u001b[31mNameError\u001b[39m                                 Traceback (most recent call last)",
      "\u001b[36mCell\u001b[39m\u001b[36m \u001b[39m\u001b[32mIn[1]\u001b[39m\u001b[32m, line 2\u001b[39m\n\u001b[32m      1\u001b[39m data_home = \u001b[33m'\u001b[39m\u001b[33mC:/Users/solab/OneDrive/Documents3r_Curs\u001b[39m\u001b[38;5;130;01m\\3\u001b[39;00m\u001b[33mr_trim\u001b[39m\u001b[33m\\\u001b[39m\u001b[33mmusicology\u001b[39m\u001b[33m'\u001b[39m\n\u001b[32m----> \u001b[39m\u001b[32m2\u001b[39m saraga = \u001b[43mmirdata\u001b[49m.initialize(\u001b[33m'\u001b[39m\u001b[33msaraga_carnatic\u001b[39m\u001b[33m'\u001b[39m, data_home=data_home)\n\u001b[32m      3\u001b[39m saraga.download()\n",
      "\u001b[31mNameError\u001b[39m: name 'mirdata' is not defined"
     ]
    }
   ],
   "source": [
    "data_home = 'C:/Users/solab/OneDrive/Documents3r_Curs\\3r_trim\\musicology'\n",
    "saraga = mirdata.initialize('saraga_carnatic', data_home=data_home)\n",
    "saraga.download()"
   ]
  },
  {
   "cell_type": "code",
   "execution_count": 7,
   "id": "3811c98b",
   "metadata": {
    "executionInfo": {
     "elapsed": 8,
     "status": "ok",
     "timestamp": 1743587841723,
     "user": {
      "displayName": "BIEL SOLÀ GRÀCIA",
      "userId": "07274656506182083730"
     },
     "user_tz": -120
    },
    "id": "3811c98b"
   },
   "outputs": [],
   "source": [
    "data_home = '/Volumes/MyPassport/mir_datasets2/saraga1.5_carnatic/'"
   ]
  },
  {
   "cell_type": "code",
   "execution_count": 8,
   "id": "a539b7ec",
   "metadata": {
    "colab": {
     "base_uri": "https://localhost:8080/",
     "height": 339
    },
    "executionInfo": {
     "elapsed": 1779,
     "status": "error",
     "timestamp": 1743587847683,
     "user": {
      "displayName": "BIEL SOLÀ GRÀCIA",
      "userId": "07274656506182083730"
     },
     "user_tz": -120
    },
    "id": "a539b7ec",
    "outputId": "9396af83-c5d4-43d9-f0e8-454586365a39"
   },
   "outputs": [
    {
     "ename": "RecursionError",
     "evalue": "maximum recursion depth exceeded",
     "output_type": "error",
     "traceback": [
      "\u001b[0;31m---------------------------------------------------------------------------\u001b[0m",
      "\u001b[0;31mRecursionError\u001b[0m                            Traceback (most recent call last)",
      "\u001b[0;32m<ipython-input-8-34907414c07b>\u001b[0m in \u001b[0;36m<cell line: 0>\u001b[0;34m()\u001b[0m\n\u001b[0;32m----> 1\u001b[0;31m \u001b[0msaraga\u001b[0m \u001b[0;34m=\u001b[0m \u001b[0mmirdata\u001b[0m\u001b[0;34m.\u001b[0m\u001b[0minitialize\u001b[0m\u001b[0;34m(\u001b[0m\u001b[0;34m'saraga_carnatic'\u001b[0m\u001b[0;34m,\u001b[0m \u001b[0mdata_home\u001b[0m\u001b[0;34m=\u001b[0m\u001b[0mdata_home\u001b[0m\u001b[0;34m)\u001b[0m\u001b[0;34m\u001b[0m\u001b[0;34m\u001b[0m\u001b[0m\n\u001b[0m\u001b[1;32m      2\u001b[0m \u001b[0msaraga\u001b[0m\u001b[0;34m.\u001b[0m\u001b[0mvalidate\u001b[0m\u001b[0;34m(\u001b[0m\u001b[0;34m)\u001b[0m\u001b[0;34m\u001b[0m\u001b[0;34m\u001b[0m\u001b[0m\n",
      "\u001b[0;32m/usr/local/lib/python3.11/dist-packages/mirdata/__init__.py\u001b[0m in \u001b[0;36minitialize\u001b[0;34m(dataset_name, data_home, version)\u001b[0m\n\u001b[1;32m     70\u001b[0m         \u001b[0;32mraise\u001b[0m \u001b[0mValueError\u001b[0m\u001b[0;34m(\u001b[0m\u001b[0;34m\"Invalid dataset {}\"\u001b[0m\u001b[0;34m.\u001b[0m\u001b[0mformat\u001b[0m\u001b[0;34m(\u001b[0m\u001b[0mdataset_name\u001b[0m\u001b[0;34m)\u001b[0m\u001b[0;34m)\u001b[0m\u001b[0;34m\u001b[0m\u001b[0;34m\u001b[0m\u001b[0m\n\u001b[1;32m     71\u001b[0m \u001b[0;34m\u001b[0m\u001b[0m\n\u001b[0;32m---> 72\u001b[0;31m     \u001b[0mmodule\u001b[0m \u001b[0;34m=\u001b[0m \u001b[0mimportlib\u001b[0m\u001b[0;34m.\u001b[0m\u001b[0mimport_module\u001b[0m\u001b[0;34m(\u001b[0m\u001b[0;34m\"mirdata.datasets.{}\"\u001b[0m\u001b[0;34m.\u001b[0m\u001b[0mformat\u001b[0m\u001b[0;34m(\u001b[0m\u001b[0mdataset_name\u001b[0m\u001b[0;34m)\u001b[0m\u001b[0;34m)\u001b[0m\u001b[0;34m\u001b[0m\u001b[0;34m\u001b[0m\u001b[0m\n\u001b[0m\u001b[1;32m     73\u001b[0m \u001b[0;34m\u001b[0m\u001b[0m\n\u001b[1;32m     74\u001b[0m     \u001b[0;32mreturn\u001b[0m \u001b[0mmodule\u001b[0m\u001b[0;34m.\u001b[0m\u001b[0mDataset\u001b[0m\u001b[0;34m(\u001b[0m\u001b[0mdata_home\u001b[0m\u001b[0;34m=\u001b[0m\u001b[0mdata_home\u001b[0m\u001b[0;34m,\u001b[0m \u001b[0mversion\u001b[0m\u001b[0;34m=\u001b[0m\u001b[0mversion\u001b[0m\u001b[0;34m)\u001b[0m\u001b[0;34m\u001b[0m\u001b[0;34m\u001b[0m\u001b[0m\n",
      "\u001b[0;32m/usr/lib/python3.11/importlib/__init__.py\u001b[0m in \u001b[0;36mimport_module\u001b[0;34m(name, package)\u001b[0m\n\u001b[1;32m    124\u001b[0m                 \u001b[0;32mbreak\u001b[0m\u001b[0;34m\u001b[0m\u001b[0;34m\u001b[0m\u001b[0m\n\u001b[1;32m    125\u001b[0m             \u001b[0mlevel\u001b[0m \u001b[0;34m+=\u001b[0m \u001b[0;36m1\u001b[0m\u001b[0;34m\u001b[0m\u001b[0;34m\u001b[0m\u001b[0m\n\u001b[0;32m--> 126\u001b[0;31m     \u001b[0;32mreturn\u001b[0m \u001b[0m_bootstrap\u001b[0m\u001b[0;34m.\u001b[0m\u001b[0m_gcd_import\u001b[0m\u001b[0;34m(\u001b[0m\u001b[0mname\u001b[0m\u001b[0;34m[\u001b[0m\u001b[0mlevel\u001b[0m\u001b[0;34m:\u001b[0m\u001b[0;34m]\u001b[0m\u001b[0;34m,\u001b[0m \u001b[0mpackage\u001b[0m\u001b[0;34m,\u001b[0m \u001b[0mlevel\u001b[0m\u001b[0;34m)\u001b[0m\u001b[0;34m\u001b[0m\u001b[0;34m\u001b[0m\u001b[0m\n\u001b[0m\u001b[1;32m    127\u001b[0m \u001b[0;34m\u001b[0m\u001b[0m\n\u001b[1;32m    128\u001b[0m \u001b[0;34m\u001b[0m\u001b[0m\n",
      "\u001b[0;32m/usr/lib/python3.11/importlib/_bootstrap.py\u001b[0m in \u001b[0;36m_gcd_import\u001b[0;34m(name, package, level)\u001b[0m\n",
      "\u001b[0;32m/usr/lib/python3.11/importlib/_bootstrap.py\u001b[0m in \u001b[0;36m_find_and_load\u001b[0;34m(name, import_)\u001b[0m\n",
      "\u001b[0;32m/usr/lib/python3.11/importlib/_bootstrap.py\u001b[0m in \u001b[0;36m_find_and_load_unlocked\u001b[0;34m(name, import_)\u001b[0m\n",
      "\u001b[0;32m/usr/lib/python3.11/importlib/_bootstrap.py\u001b[0m in \u001b[0;36m_load_unlocked\u001b[0;34m(spec)\u001b[0m\n",
      "\u001b[0;32m/usr/lib/python3.11/importlib/_bootstrap_external.py\u001b[0m in \u001b[0;36mexec_module\u001b[0;34m(self, module)\u001b[0m\n",
      "\u001b[0;32m/usr/lib/python3.11/importlib/_bootstrap.py\u001b[0m in \u001b[0;36m_call_with_frames_removed\u001b[0;34m(f, *args, **kwds)\u001b[0m\n",
      "\u001b[0;32m/usr/local/lib/python3.11/dist-packages/mirdata/datasets/saraga_carnatic.py\u001b[0m in \u001b[0;36m<module>\u001b[0;34m\u001b[0m\n\u001b[1;32m     38\u001b[0m \u001b[0;32mimport\u001b[0m \u001b[0mnumpy\u001b[0m \u001b[0;32mas\u001b[0m \u001b[0mnp\u001b[0m\u001b[0;34m\u001b[0m\u001b[0;34m\u001b[0m\u001b[0m\n\u001b[1;32m     39\u001b[0m \u001b[0;34m\u001b[0m\u001b[0m\n\u001b[0;32m---> 40\u001b[0;31m \u001b[0;32mfrom\u001b[0m \u001b[0mmirdata\u001b[0m \u001b[0;32mimport\u001b[0m \u001b[0mannotations\u001b[0m\u001b[0;34m,\u001b[0m \u001b[0mcore\u001b[0m\u001b[0;34m,\u001b[0m \u001b[0mdownload_utils\u001b[0m\u001b[0;34m,\u001b[0m \u001b[0mio\u001b[0m\u001b[0;34m,\u001b[0m \u001b[0mjams_utils\u001b[0m\u001b[0;34m\u001b[0m\u001b[0;34m\u001b[0m\u001b[0m\n\u001b[0m\u001b[1;32m     41\u001b[0m \u001b[0;34m\u001b[0m\u001b[0m\n\u001b[1;32m     42\u001b[0m BIBTEX = \"\"\"\n",
      "\u001b[0;32m/usr/local/lib/python3.11/dist-packages/mirdata/jams_utils.py\u001b[0m in \u001b[0;36m<module>\u001b[0;34m\u001b[0m\n\u001b[1;32m      5\u001b[0m \u001b[0;32mimport\u001b[0m \u001b[0mos\u001b[0m\u001b[0;34m\u001b[0m\u001b[0;34m\u001b[0m\u001b[0m\n\u001b[1;32m      6\u001b[0m \u001b[0;34m\u001b[0m\u001b[0m\n\u001b[0;32m----> 7\u001b[0;31m \u001b[0;32mimport\u001b[0m \u001b[0mjams\u001b[0m\u001b[0;34m\u001b[0m\u001b[0;34m\u001b[0m\u001b[0m\n\u001b[0m\u001b[1;32m      8\u001b[0m \u001b[0;32mimport\u001b[0m \u001b[0mlibrosa\u001b[0m\u001b[0;34m\u001b[0m\u001b[0;34m\u001b[0m\u001b[0m\n\u001b[1;32m      9\u001b[0m \u001b[0;32mfrom\u001b[0m \u001b[0msmart_open\u001b[0m \u001b[0;32mimport\u001b[0m \u001b[0mopen\u001b[0m\u001b[0;34m,\u001b[0m \u001b[0mparse_uri\u001b[0m\u001b[0;34m\u001b[0m\u001b[0;34m\u001b[0m\u001b[0m\n",
      "\u001b[0;32m/usr/local/lib/python3.11/dist-packages/jams/__init__.py\u001b[0m in \u001b[0;36m<module>\u001b[0;34m\u001b[0m\n\u001b[1;32m      9\u001b[0m \u001b[0;32mfrom\u001b[0m \u001b[0;34m.\u001b[0m \u001b[0;32mimport\u001b[0m \u001b[0mutil\u001b[0m\u001b[0;34m\u001b[0m\u001b[0;34m\u001b[0m\u001b[0m\n\u001b[1;32m     10\u001b[0m \u001b[0;32mfrom\u001b[0m \u001b[0;34m.\u001b[0m \u001b[0;32mimport\u001b[0m \u001b[0mschema\u001b[0m\u001b[0;34m\u001b[0m\u001b[0;34m\u001b[0m\u001b[0m\n\u001b[0;32m---> 11\u001b[0;31m \u001b[0;32mfrom\u001b[0m \u001b[0;34m.\u001b[0m \u001b[0;32mimport\u001b[0m \u001b[0meval\u001b[0m\u001b[0;34m\u001b[0m\u001b[0;34m\u001b[0m\u001b[0m\n\u001b[0m\u001b[1;32m     12\u001b[0m \u001b[0;32mfrom\u001b[0m \u001b[0;34m.\u001b[0m \u001b[0;32mimport\u001b[0m \u001b[0msonify\u001b[0m\u001b[0;34m\u001b[0m\u001b[0;34m\u001b[0m\u001b[0m\n\u001b[1;32m     13\u001b[0m \u001b[0;32mfrom\u001b[0m \u001b[0;34m.\u001b[0m\u001b[0mversion\u001b[0m \u001b[0;32mimport\u001b[0m \u001b[0mversion\u001b[0m \u001b[0;32mas\u001b[0m \u001b[0m__version__\u001b[0m\u001b[0;34m\u001b[0m\u001b[0;34m\u001b[0m\u001b[0m\n",
      "\u001b[0;32m/usr/local/lib/python3.11/dist-packages/jams/eval.py\u001b[0m in \u001b[0;36m<module>\u001b[0;34m\u001b[0m\n\u001b[1;32m     23\u001b[0m \u001b[0;32mimport\u001b[0m \u001b[0msix\u001b[0m\u001b[0;34m\u001b[0m\u001b[0;34m\u001b[0m\u001b[0m\n\u001b[1;32m     24\u001b[0m \u001b[0;32mimport\u001b[0m \u001b[0mnumpy\u001b[0m \u001b[0;32mas\u001b[0m \u001b[0mnp\u001b[0m\u001b[0;34m\u001b[0m\u001b[0;34m\u001b[0m\u001b[0m\n\u001b[0;32m---> 25\u001b[0;31m \u001b[0;32mimport\u001b[0m \u001b[0mmir_eval\u001b[0m\u001b[0;34m\u001b[0m\u001b[0;34m\u001b[0m\u001b[0m\n\u001b[0m\u001b[1;32m     26\u001b[0m \u001b[0;34m\u001b[0m\u001b[0m\n\u001b[1;32m     27\u001b[0m \u001b[0;32mfrom\u001b[0m \u001b[0;34m.\u001b[0m\u001b[0mnsconvert\u001b[0m \u001b[0;32mimport\u001b[0m \u001b[0mconvert\u001b[0m\u001b[0;34m\u001b[0m\u001b[0;34m\u001b[0m\u001b[0m\n",
      "\u001b[0;32m/usr/local/lib/python3.11/dist-packages/mir_eval/__init__.py\u001b[0m in \u001b[0;36m<module>\u001b[0;34m\u001b[0m\n\u001b[1;32m      3\u001b[0m \u001b[0;34m\u001b[0m\u001b[0m\n\u001b[1;32m      4\u001b[0m \u001b[0;31m# Import all submodules (for each task)\u001b[0m\u001b[0;34m\u001b[0m\u001b[0;34m\u001b[0m\u001b[0m\n\u001b[0;32m----> 5\u001b[0;31m \u001b[0;32mfrom\u001b[0m \u001b[0;34m.\u001b[0m \u001b[0;32mimport\u001b[0m \u001b[0malignment\u001b[0m\u001b[0;34m\u001b[0m\u001b[0;34m\u001b[0m\u001b[0m\n\u001b[0m\u001b[1;32m      6\u001b[0m \u001b[0;32mfrom\u001b[0m \u001b[0;34m.\u001b[0m \u001b[0;32mimport\u001b[0m \u001b[0mbeat\u001b[0m\u001b[0;34m\u001b[0m\u001b[0;34m\u001b[0m\u001b[0m\n\u001b[1;32m      7\u001b[0m \u001b[0;32mfrom\u001b[0m \u001b[0;34m.\u001b[0m \u001b[0;32mimport\u001b[0m \u001b[0mchord\u001b[0m\u001b[0;34m\u001b[0m\u001b[0;34m\u001b[0m\u001b[0m\n",
      "\u001b[0;32m/usr/local/lib/python3.11/dist-packages/mir_eval/alignment.py\u001b[0m in \u001b[0;36m<module>\u001b[0;34m\u001b[0m\n\u001b[1;32m     52\u001b[0m \u001b[0;34m\u001b[0m\u001b[0m\n\u001b[1;32m     53\u001b[0m \u001b[0;32mimport\u001b[0m \u001b[0mnumpy\u001b[0m \u001b[0;32mas\u001b[0m \u001b[0mnp\u001b[0m\u001b[0;34m\u001b[0m\u001b[0;34m\u001b[0m\u001b[0m\n\u001b[0;32m---> 54\u001b[0;31m \u001b[0;32mfrom\u001b[0m \u001b[0mscipy\u001b[0m\u001b[0;34m.\u001b[0m\u001b[0mstats\u001b[0m \u001b[0;32mimport\u001b[0m \u001b[0mskewnorm\u001b[0m\u001b[0;34m\u001b[0m\u001b[0;34m\u001b[0m\u001b[0m\n\u001b[0m\u001b[1;32m     55\u001b[0m \u001b[0;34m\u001b[0m\u001b[0m\n\u001b[1;32m     56\u001b[0m \u001b[0;32mfrom\u001b[0m \u001b[0mmir_eval\u001b[0m\u001b[0;34m.\u001b[0m\u001b[0mutil\u001b[0m \u001b[0;32mimport\u001b[0m \u001b[0mfilter_kwargs\u001b[0m\u001b[0;34m\u001b[0m\u001b[0;34m\u001b[0m\u001b[0m\n",
      "\u001b[0;32m/usr/local/lib/python3.11/dist-packages/scipy/stats/__init__.py\u001b[0m in \u001b[0;36m<module>\u001b[0;34m\u001b[0m\n\u001b[1;32m    608\u001b[0m from ._warnings_errors import (ConstantInputWarning, NearConstantInputWarning,\n\u001b[1;32m    609\u001b[0m                                DegenerateDataWarning, FitError)\n\u001b[0;32m--> 610\u001b[0;31m \u001b[0;32mfrom\u001b[0m \u001b[0;34m.\u001b[0m\u001b[0m_stats_py\u001b[0m \u001b[0;32mimport\u001b[0m \u001b[0;34m*\u001b[0m\u001b[0;34m\u001b[0m\u001b[0;34m\u001b[0m\u001b[0m\n\u001b[0m\u001b[1;32m    611\u001b[0m \u001b[0;32mfrom\u001b[0m \u001b[0;34m.\u001b[0m\u001b[0m_variation\u001b[0m \u001b[0;32mimport\u001b[0m \u001b[0mvariation\u001b[0m\u001b[0;34m\u001b[0m\u001b[0;34m\u001b[0m\u001b[0m\n\u001b[1;32m    612\u001b[0m \u001b[0;32mfrom\u001b[0m \u001b[0;34m.\u001b[0m\u001b[0mdistributions\u001b[0m \u001b[0;32mimport\u001b[0m \u001b[0;34m*\u001b[0m\u001b[0;34m\u001b[0m\u001b[0;34m\u001b[0m\u001b[0m\n",
      "\u001b[0;32m/usr/local/lib/python3.11/dist-packages/scipy/stats/_stats_py.py\u001b[0m in \u001b[0;36m<module>\u001b[0;34m\u001b[0m\n\u001b[1;32m     47\u001b[0m \u001b[0;31m# See https://github.com/scipy/scipy/issues/15765#issuecomment-1875564522\u001b[0m\u001b[0;34m\u001b[0m\u001b[0;34m\u001b[0m\u001b[0m\n\u001b[1;32m     48\u001b[0m \u001b[0;32mfrom\u001b[0m \u001b[0mscipy\u001b[0m \u001b[0;32mimport\u001b[0m \u001b[0mlinalg\u001b[0m  \u001b[0;31m# noqa: F401\u001b[0m\u001b[0;34m\u001b[0m\u001b[0;34m\u001b[0m\u001b[0m\n\u001b[0;32m---> 49\u001b[0;31m \u001b[0;32mfrom\u001b[0m \u001b[0;34m.\u001b[0m \u001b[0;32mimport\u001b[0m \u001b[0mdistributions\u001b[0m\u001b[0;34m\u001b[0m\u001b[0;34m\u001b[0m\u001b[0m\n\u001b[0m\u001b[1;32m     50\u001b[0m \u001b[0;32mfrom\u001b[0m \u001b[0;34m.\u001b[0m \u001b[0;32mimport\u001b[0m \u001b[0m_mstats_basic\u001b[0m \u001b[0;32mas\u001b[0m \u001b[0mmstats_basic\u001b[0m\u001b[0;34m\u001b[0m\u001b[0;34m\u001b[0m\u001b[0m\n\u001b[1;32m     51\u001b[0m \u001b[0;34m\u001b[0m\u001b[0m\n",
      "\u001b[0;32m/usr/local/lib/python3.11/dist-packages/scipy/stats/distributions.py\u001b[0m in \u001b[0;36m<module>\u001b[0;34m\u001b[0m\n\u001b[1;32m      8\u001b[0m \u001b[0;32mfrom\u001b[0m \u001b[0;34m.\u001b[0m\u001b[0m_distn_infrastructure\u001b[0m \u001b[0;32mimport\u001b[0m \u001b[0;34m(\u001b[0m\u001b[0mrv_discrete\u001b[0m\u001b[0;34m,\u001b[0m \u001b[0mrv_continuous\u001b[0m\u001b[0;34m,\u001b[0m \u001b[0mrv_frozen\u001b[0m\u001b[0;34m)\u001b[0m  \u001b[0;31m# noqa: F401\u001b[0m\u001b[0;34m\u001b[0m\u001b[0;34m\u001b[0m\u001b[0m\n\u001b[1;32m      9\u001b[0m \u001b[0;34m\u001b[0m\u001b[0m\n\u001b[0;32m---> 10\u001b[0;31m \u001b[0;32mfrom\u001b[0m \u001b[0;34m.\u001b[0m \u001b[0;32mimport\u001b[0m \u001b[0m_continuous_distns\u001b[0m\u001b[0;34m\u001b[0m\u001b[0;34m\u001b[0m\u001b[0m\n\u001b[0m\u001b[1;32m     11\u001b[0m \u001b[0;32mfrom\u001b[0m \u001b[0;34m.\u001b[0m \u001b[0;32mimport\u001b[0m \u001b[0m_discrete_distns\u001b[0m\u001b[0;34m\u001b[0m\u001b[0;34m\u001b[0m\u001b[0m\n\u001b[1;32m     12\u001b[0m \u001b[0;34m\u001b[0m\u001b[0m\n",
      "\u001b[0;32m/usr/local/lib/python3.11/dist-packages/scipy/stats/_continuous_distns.py\u001b[0m in \u001b[0;36m<module>\u001b[0;34m\u001b[0m\n\u001b[1;32m     10\u001b[0m \u001b[0;32mimport\u001b[0m \u001b[0mnumpy\u001b[0m \u001b[0;32mas\u001b[0m \u001b[0mnp\u001b[0m\u001b[0;34m\u001b[0m\u001b[0;34m\u001b[0m\u001b[0m\n\u001b[1;32m     11\u001b[0m \u001b[0;32mfrom\u001b[0m \u001b[0mnumpy\u001b[0m\u001b[0;34m.\u001b[0m\u001b[0mpolynomial\u001b[0m \u001b[0;32mimport\u001b[0m \u001b[0mPolynomial\u001b[0m\u001b[0;34m\u001b[0m\u001b[0;34m\u001b[0m\u001b[0m\n\u001b[0;32m---> 12\u001b[0;31m \u001b[0;32mfrom\u001b[0m \u001b[0mscipy\u001b[0m\u001b[0;34m.\u001b[0m\u001b[0minterpolate\u001b[0m \u001b[0;32mimport\u001b[0m \u001b[0mBSpline\u001b[0m\u001b[0;34m\u001b[0m\u001b[0;34m\u001b[0m\u001b[0m\n\u001b[0m\u001b[1;32m     13\u001b[0m from scipy._lib.doccer import (extend_notes_in_docstring,\n\u001b[1;32m     14\u001b[0m                                \u001b[0mreplace_notes_in_docstring\u001b[0m\u001b[0;34m,\u001b[0m\u001b[0;34m\u001b[0m\u001b[0;34m\u001b[0m\u001b[0m\n",
      "\u001b[0;32m/usr/local/lib/python3.11/dist-packages/scipy/interpolate/__init__.py\u001b[0m in \u001b[0;36m<module>\u001b[0;34m\u001b[0m\n\u001b[1;32m    165\u001b[0m \u001b[0;34m(\u001b[0m\u001b[0mshould\u001b[0m \u001b[0;32mnot\u001b[0m \u001b[0mbe\u001b[0m \u001b[0mused\u001b[0m \u001b[0;32min\u001b[0m \u001b[0mnew\u001b[0m \u001b[0mcode\u001b[0m\u001b[0;34m)\u001b[0m\u001b[0;34m.\u001b[0m\u001b[0;34m\u001b[0m\u001b[0;34m\u001b[0m\u001b[0m\n\u001b[1;32m    166\u001b[0m \"\"\"\n\u001b[0;32m--> 167\u001b[0;31m \u001b[0;32mfrom\u001b[0m \u001b[0;34m.\u001b[0m\u001b[0m_interpolate\u001b[0m \u001b[0;32mimport\u001b[0m \u001b[0;34m*\u001b[0m\u001b[0;34m\u001b[0m\u001b[0;34m\u001b[0m\u001b[0m\n\u001b[0m\u001b[1;32m    168\u001b[0m \u001b[0;32mfrom\u001b[0m \u001b[0;34m.\u001b[0m\u001b[0m_fitpack_py\u001b[0m \u001b[0;32mimport\u001b[0m \u001b[0;34m*\u001b[0m\u001b[0;34m\u001b[0m\u001b[0;34m\u001b[0m\u001b[0m\n\u001b[1;32m    169\u001b[0m \u001b[0;34m\u001b[0m\u001b[0m\n",
      "\u001b[0;32m/usr/local/lib/python3.11/dist-packages/scipy/interpolate/_interpolate.py\u001b[0m in \u001b[0;36m<module>\u001b[0;34m\u001b[0m\n\u001b[1;32m     10\u001b[0m \u001b[0;32mfrom\u001b[0m \u001b[0mscipy\u001b[0m\u001b[0;34m.\u001b[0m\u001b[0mspecial\u001b[0m \u001b[0;32mimport\u001b[0m \u001b[0mcomb\u001b[0m\u001b[0;34m\u001b[0m\u001b[0;34m\u001b[0m\u001b[0m\n\u001b[1;32m     11\u001b[0m \u001b[0;34m\u001b[0m\u001b[0m\n\u001b[0;32m---> 12\u001b[0;31m \u001b[0;32mfrom\u001b[0m \u001b[0;34m.\u001b[0m \u001b[0;32mimport\u001b[0m \u001b[0m_fitpack_py\u001b[0m\u001b[0;34m\u001b[0m\u001b[0;34m\u001b[0m\u001b[0m\n\u001b[0m\u001b[1;32m     13\u001b[0m \u001b[0;32mfrom\u001b[0m \u001b[0;34m.\u001b[0m\u001b[0m_polyint\u001b[0m \u001b[0;32mimport\u001b[0m \u001b[0m_Interpolator1D\u001b[0m\u001b[0;34m\u001b[0m\u001b[0;34m\u001b[0m\u001b[0m\n\u001b[1;32m     14\u001b[0m \u001b[0;32mfrom\u001b[0m \u001b[0;34m.\u001b[0m \u001b[0;32mimport\u001b[0m \u001b[0m_ppoly\u001b[0m\u001b[0;34m\u001b[0m\u001b[0;34m\u001b[0m\u001b[0m\n",
      "\u001b[0;32m/usr/local/lib/python3.11/dist-packages/scipy/interpolate/_fitpack_py.py\u001b[0m in \u001b[0;36m<module>\u001b[0;34m\u001b[0m\n\u001b[1;32m      6\u001b[0m \u001b[0;34m\u001b[0m\u001b[0m\n\u001b[1;32m      7\u001b[0m \u001b[0;31m# These are in the API for fitpack even if not used in fitpack.py itself.\u001b[0m\u001b[0;34m\u001b[0m\u001b[0;34m\u001b[0m\u001b[0m\n\u001b[0;32m----> 8\u001b[0;31m \u001b[0;32mfrom\u001b[0m \u001b[0;34m.\u001b[0m\u001b[0m_fitpack_impl\u001b[0m \u001b[0;32mimport\u001b[0m \u001b[0mbisplrep\u001b[0m\u001b[0;34m,\u001b[0m \u001b[0mbisplev\u001b[0m\u001b[0;34m,\u001b[0m \u001b[0mdblint\u001b[0m  \u001b[0;31m# noqa: F401\u001b[0m\u001b[0;34m\u001b[0m\u001b[0;34m\u001b[0m\u001b[0m\n\u001b[0m\u001b[1;32m      9\u001b[0m \u001b[0;32mfrom\u001b[0m \u001b[0;34m.\u001b[0m \u001b[0;32mimport\u001b[0m \u001b[0m_fitpack_impl\u001b[0m \u001b[0;32mas\u001b[0m \u001b[0m_impl\u001b[0m\u001b[0;34m\u001b[0m\u001b[0;34m\u001b[0m\u001b[0m\n\u001b[1;32m     10\u001b[0m \u001b[0;32mfrom\u001b[0m \u001b[0;34m.\u001b[0m\u001b[0m_bsplines\u001b[0m \u001b[0;32mimport\u001b[0m \u001b[0mBSpline\u001b[0m\u001b[0;34m\u001b[0m\u001b[0;34m\u001b[0m\u001b[0m\n",
      "\u001b[0;32m/usr/local/lib/python3.11/dist-packages/scipy/interpolate/_fitpack_impl.py\u001b[0m in \u001b[0;36m<module>\u001b[0;34m\u001b[0m\n\u001b[1;32m    101\u001b[0m \u001b[0;34m\u001b[0m\u001b[0m\n\u001b[1;32m    102\u001b[0m _parcur_cache = {'t': array([], float), 'wrk': array([], float),\n\u001b[0;32m--> 103\u001b[0;31m                  \u001b[0;34m'iwrk'\u001b[0m\u001b[0;34m:\u001b[0m \u001b[0marray\u001b[0m\u001b[0;34m(\u001b[0m\u001b[0;34m[\u001b[0m\u001b[0;34m]\u001b[0m\u001b[0;34m,\u001b[0m \u001b[0mdfitpack_int\u001b[0m\u001b[0;34m)\u001b[0m\u001b[0;34m,\u001b[0m \u001b[0;34m'u'\u001b[0m\u001b[0;34m:\u001b[0m \u001b[0marray\u001b[0m\u001b[0;34m(\u001b[0m\u001b[0;34m[\u001b[0m\u001b[0;34m]\u001b[0m\u001b[0;34m,\u001b[0m \u001b[0mfloat\u001b[0m\u001b[0;34m)\u001b[0m\u001b[0;34m,\u001b[0m\u001b[0;34m\u001b[0m\u001b[0;34m\u001b[0m\u001b[0m\n\u001b[0m\u001b[1;32m    104\u001b[0m                  'ub': 0, 'ue': 1}\n\u001b[1;32m    105\u001b[0m \u001b[0;34m\u001b[0m\u001b[0m\n",
      "\u001b[0;32m/usr/local/lib/python3.11/dist-packages/numpy/core/_dtype.py\u001b[0m in \u001b[0;36m__repr__\u001b[0;34m(dtype)\u001b[0m\n\u001b[1;32m     44\u001b[0m \u001b[0;34m\u001b[0m\u001b[0m\n\u001b[1;32m     45\u001b[0m \u001b[0;32mdef\u001b[0m \u001b[0m__repr__\u001b[0m\u001b[0;34m(\u001b[0m\u001b[0mdtype\u001b[0m\u001b[0;34m)\u001b[0m\u001b[0;34m:\u001b[0m\u001b[0;34m\u001b[0m\u001b[0;34m\u001b[0m\u001b[0m\n\u001b[0;32m---> 46\u001b[0;31m     \u001b[0marg_str\u001b[0m \u001b[0;34m=\u001b[0m \u001b[0m_construction_repr\u001b[0m\u001b[0;34m(\u001b[0m\u001b[0mdtype\u001b[0m\u001b[0;34m,\u001b[0m \u001b[0minclude_align\u001b[0m\u001b[0;34m=\u001b[0m\u001b[0;32mFalse\u001b[0m\u001b[0;34m)\u001b[0m\u001b[0;34m\u001b[0m\u001b[0;34m\u001b[0m\u001b[0m\n\u001b[0m\u001b[1;32m     47\u001b[0m     \u001b[0;32mif\u001b[0m \u001b[0mdtype\u001b[0m\u001b[0;34m.\u001b[0m\u001b[0misalignedstruct\u001b[0m\u001b[0;34m:\u001b[0m\u001b[0;34m\u001b[0m\u001b[0;34m\u001b[0m\u001b[0m\n\u001b[1;32m     48\u001b[0m         \u001b[0marg_str\u001b[0m \u001b[0;34m=\u001b[0m \u001b[0marg_str\u001b[0m \u001b[0;34m+\u001b[0m \u001b[0;34m\", align=True\"\u001b[0m\u001b[0;34m\u001b[0m\u001b[0;34m\u001b[0m\u001b[0m\n",
      "\u001b[0;32m/usr/local/lib/python3.11/dist-packages/numpy/core/_dtype.py\u001b[0m in \u001b[0;36m_construction_repr\u001b[0;34m(dtype, include_align, short)\u001b[0m\n\u001b[1;32m     98\u001b[0m         \u001b[0;32mreturn\u001b[0m \u001b[0m_subarray_str\u001b[0m\u001b[0;34m(\u001b[0m\u001b[0mdtype\u001b[0m\u001b[0;34m)\u001b[0m\u001b[0;34m\u001b[0m\u001b[0;34m\u001b[0m\u001b[0m\n\u001b[1;32m     99\u001b[0m     \u001b[0;32melse\u001b[0m\u001b[0;34m:\u001b[0m\u001b[0;34m\u001b[0m\u001b[0;34m\u001b[0m\u001b[0m\n\u001b[0;32m--> 100\u001b[0;31m         \u001b[0;32mreturn\u001b[0m \u001b[0m_scalar_str\u001b[0m\u001b[0;34m(\u001b[0m\u001b[0mdtype\u001b[0m\u001b[0;34m,\u001b[0m \u001b[0mshort\u001b[0m\u001b[0;34m=\u001b[0m\u001b[0mshort\u001b[0m\u001b[0;34m)\u001b[0m\u001b[0;34m\u001b[0m\u001b[0;34m\u001b[0m\u001b[0m\n\u001b[0m\u001b[1;32m    101\u001b[0m \u001b[0;34m\u001b[0m\u001b[0m\n\u001b[1;32m    102\u001b[0m \u001b[0;34m\u001b[0m\u001b[0m\n",
      "\u001b[0;32m/usr/local/lib/python3.11/dist-packages/numpy/core/_dtype.py\u001b[0m in \u001b[0;36m_scalar_str\u001b[0;34m(dtype, short)\u001b[0m\n\u001b[1;32m    141\u001b[0m         \u001b[0;32mreturn\u001b[0m \u001b[0;34m\"'%sm8%s'\"\u001b[0m \u001b[0;34m%\u001b[0m \u001b[0;34m(\u001b[0m\u001b[0mbyteorder\u001b[0m\u001b[0;34m,\u001b[0m \u001b[0m_datetime_metadata_str\u001b[0m\u001b[0;34m(\u001b[0m\u001b[0mdtype\u001b[0m\u001b[0;34m)\u001b[0m\u001b[0;34m)\u001b[0m\u001b[0;34m\u001b[0m\u001b[0;34m\u001b[0m\u001b[0m\n\u001b[1;32m    142\u001b[0m \u001b[0;34m\u001b[0m\u001b[0m\n\u001b[0;32m--> 143\u001b[0;31m     \u001b[0;32melif\u001b[0m \u001b[0mnp\u001b[0m\u001b[0;34m.\u001b[0m\u001b[0missubdtype\u001b[0m\u001b[0;34m(\u001b[0m\u001b[0mdtype\u001b[0m\u001b[0;34m,\u001b[0m \u001b[0mnp\u001b[0m\u001b[0;34m.\u001b[0m\u001b[0mnumber\u001b[0m\u001b[0;34m)\u001b[0m\u001b[0;34m:\u001b[0m\u001b[0;34m\u001b[0m\u001b[0;34m\u001b[0m\u001b[0m\n\u001b[0m\u001b[1;32m    144\u001b[0m         \u001b[0;31m# Short repr with endianness, like '<f8'\u001b[0m\u001b[0;34m\u001b[0m\u001b[0;34m\u001b[0m\u001b[0m\n\u001b[1;32m    145\u001b[0m         \u001b[0;32mif\u001b[0m \u001b[0mshort\u001b[0m \u001b[0;32mor\u001b[0m \u001b[0mdtype\u001b[0m\u001b[0;34m.\u001b[0m\u001b[0mbyteorder\u001b[0m \u001b[0;32mnot\u001b[0m \u001b[0;32min\u001b[0m \u001b[0;34m(\u001b[0m\u001b[0;34m'='\u001b[0m\u001b[0;34m,\u001b[0m \u001b[0;34m'|'\u001b[0m\u001b[0;34m)\u001b[0m\u001b[0;34m:\u001b[0m\u001b[0;34m\u001b[0m\u001b[0;34m\u001b[0m\u001b[0m\n",
      "\u001b[0;32m/usr/local/lib/python3.11/dist-packages/numpy/core/numerictypes.py\u001b[0m in \u001b[0;36missubdtype\u001b[0;34m(arg1, arg2)\u001b[0m\n\u001b[1;32m    415\u001b[0m     \"\"\"\n\u001b[1;32m    416\u001b[0m     \u001b[0;32mif\u001b[0m \u001b[0;32mnot\u001b[0m \u001b[0missubclass_\u001b[0m\u001b[0;34m(\u001b[0m\u001b[0marg1\u001b[0m\u001b[0;34m,\u001b[0m \u001b[0mgeneric\u001b[0m\u001b[0;34m)\u001b[0m\u001b[0;34m:\u001b[0m\u001b[0;34m\u001b[0m\u001b[0;34m\u001b[0m\u001b[0m\n\u001b[0;32m--> 417\u001b[0;31m         \u001b[0marg1\u001b[0m \u001b[0;34m=\u001b[0m \u001b[0mdtype\u001b[0m\u001b[0;34m(\u001b[0m\u001b[0marg1\u001b[0m\u001b[0;34m)\u001b[0m\u001b[0;34m.\u001b[0m\u001b[0mtype\u001b[0m\u001b[0;34m\u001b[0m\u001b[0;34m\u001b[0m\u001b[0m\n\u001b[0m\u001b[1;32m    418\u001b[0m     \u001b[0;32mif\u001b[0m \u001b[0;32mnot\u001b[0m \u001b[0missubclass_\u001b[0m\u001b[0;34m(\u001b[0m\u001b[0marg2\u001b[0m\u001b[0;34m,\u001b[0m \u001b[0mgeneric\u001b[0m\u001b[0;34m)\u001b[0m\u001b[0;34m:\u001b[0m\u001b[0;34m\u001b[0m\u001b[0;34m\u001b[0m\u001b[0m\n\u001b[1;32m    419\u001b[0m         \u001b[0marg2\u001b[0m \u001b[0;34m=\u001b[0m \u001b[0mdtype\u001b[0m\u001b[0;34m(\u001b[0m\u001b[0marg2\u001b[0m\u001b[0;34m)\u001b[0m\u001b[0;34m.\u001b[0m\u001b[0mtype\u001b[0m\u001b[0;34m\u001b[0m\u001b[0;34m\u001b[0m\u001b[0m\n",
      "... last 4 frames repeated, from the frame below ...\n",
      "\u001b[0;32m/usr/local/lib/python3.11/dist-packages/numpy/core/_dtype.py\u001b[0m in \u001b[0;36m__repr__\u001b[0;34m(dtype)\u001b[0m\n\u001b[1;32m     44\u001b[0m \u001b[0;34m\u001b[0m\u001b[0m\n\u001b[1;32m     45\u001b[0m \u001b[0;32mdef\u001b[0m \u001b[0m__repr__\u001b[0m\u001b[0;34m(\u001b[0m\u001b[0mdtype\u001b[0m\u001b[0;34m)\u001b[0m\u001b[0;34m:\u001b[0m\u001b[0;34m\u001b[0m\u001b[0;34m\u001b[0m\u001b[0m\n\u001b[0;32m---> 46\u001b[0;31m     \u001b[0marg_str\u001b[0m \u001b[0;34m=\u001b[0m \u001b[0m_construction_repr\u001b[0m\u001b[0;34m(\u001b[0m\u001b[0mdtype\u001b[0m\u001b[0;34m,\u001b[0m \u001b[0minclude_align\u001b[0m\u001b[0;34m=\u001b[0m\u001b[0;32mFalse\u001b[0m\u001b[0;34m)\u001b[0m\u001b[0;34m\u001b[0m\u001b[0;34m\u001b[0m\u001b[0m\n\u001b[0m\u001b[1;32m     47\u001b[0m     \u001b[0;32mif\u001b[0m \u001b[0mdtype\u001b[0m\u001b[0;34m.\u001b[0m\u001b[0misalignedstruct\u001b[0m\u001b[0;34m:\u001b[0m\u001b[0;34m\u001b[0m\u001b[0;34m\u001b[0m\u001b[0m\n\u001b[1;32m     48\u001b[0m         \u001b[0marg_str\u001b[0m \u001b[0;34m=\u001b[0m \u001b[0marg_str\u001b[0m \u001b[0;34m+\u001b[0m \u001b[0;34m\", align=True\"\u001b[0m\u001b[0;34m\u001b[0m\u001b[0;34m\u001b[0m\u001b[0m\n",
      "\u001b[0;31mRecursionError\u001b[0m: maximum recursion depth exceeded"
     ]
    }
   ],
   "source": [
    "saraga = mirdata.initialize('saraga_carnatic', data_home=data_home)\n",
    "saraga.validate()"
   ]
  },
  {
   "cell_type": "markdown",
   "id": "6099dc97",
   "metadata": {
    "id": "6099dc97"
   },
   "source": [
    "You can choose a random track using `.choice_track()`. This returns a Track object."
   ]
  },
  {
   "cell_type": "code",
   "execution_count": null,
   "id": "5663de54",
   "metadata": {
    "id": "5663de54"
   },
   "outputs": [],
   "source": [
    "example_track = saraga.choice_track()"
   ]
  },
  {
   "cell_type": "markdown",
   "id": "attached-waters",
   "metadata": {
    "id": "attached-waters"
   },
   "source": [
    "You can load all tracks and information to a dict using `.load_tracks()`"
   ]
  },
  {
   "cell_type": "code",
   "execution_count": null,
   "id": "eligible-champion",
   "metadata": {
    "id": "eligible-champion",
    "outputId": "6d776172-d781-4cf0-ca7b-abcf53a52c28",
    "scrolled": true
   },
   "outputs": [
    {
     "name": "stderr",
     "output_type": "stream",
     "text": [
      "INFO: Metadata file /Volumes/MyPassport/mir_datasets/saraga1.5_carnatic/saraga1.5_carnatic/Sumitra Nitin at Arkay by Sumitra Nitin/Dorakuna/Dorakuna.json not found.\n",
      "INFO: Metadata file /Volumes/MyPassport/mir_datasets/saraga1.5_carnatic/saraga1.5_carnatic/Sumitra Nitin at Arkay by Sumitra Nitin/Ganamuda Panam/Ganamuda Panam.json not found.\n",
      "INFO: Metadata file /Volumes/MyPassport/mir_datasets/saraga1.5_carnatic/saraga1.5_carnatic/Sumitra Nitin at Arkay by Sumitra Nitin/Chidambara Natarajam/Chidambara Natarajam.json not found.\n",
      "INFO: Metadata file /Volumes/MyPassport/mir_datasets/saraga1.5_carnatic/saraga1.5_carnatic/Sumitra Nitin at Arkay by Sumitra Nitin/Vandalum/Vandalum.json not found.\n",
      "INFO: Metadata file /Volumes/MyPassport/mir_datasets/saraga1.5_carnatic/saraga1.5_carnatic/Sumitra Nitin at Arkay by Sumitra Nitin/Thiruveragane Saveri Varnam/Thiruveragane Saveri Varnam.json not found.\n",
      "INFO: Metadata file /Volumes/MyPassport/mir_datasets/saraga1.5_carnatic/saraga1.5_carnatic/Sumitra Nitin at Arkay by Sumitra Nitin/Rama Daya Judave/Rama Daya Judave.json not found.\n",
      "INFO: Metadata file /Volumes/MyPassport/mir_datasets/saraga1.5_carnatic/saraga1.5_carnatic/Salem Gayatri Venkatesan at Arkay by Salem Gayatri Venkatesan/Neene Ballideno/Neene Ballideno.json not found.\n",
      "INFO: Metadata file /Volumes/MyPassport/mir_datasets/saraga1.5_carnatic/saraga1.5_carnatic/Salem Gayatri Venkatesan at Arkay by Salem Gayatri Venkatesan/Paragu Matada/Paragu Matada.json not found.\n",
      "INFO: Metadata file /Volumes/MyPassport/mir_datasets/saraga1.5_carnatic/saraga1.5_carnatic/Salem Gayatri Venkatesan at Arkay by Salem Gayatri Venkatesan/Palisomma Muddu Sarade/Palisomma Muddu Sarade.json not found.\n",
      "INFO: Metadata file /Volumes/MyPassport/mir_datasets/saraga1.5_carnatic/saraga1.5_carnatic/Salem Gayatri Venkatesan at Arkay by Salem Gayatri Venkatesan/Ramakrishnaru Manege/Ramakrishnaru Manege.json not found.\n",
      "INFO: Metadata file /Volumes/MyPassport/mir_datasets/saraga1.5_carnatic/saraga1.5_carnatic/Salem Gayatri Venkatesan at Arkay by Salem Gayatri Venkatesan/Bandadella Barali/Bandadella Barali.json not found.\n",
      "INFO: Metadata file /Volumes/MyPassport/mir_datasets/saraga1.5_carnatic/saraga1.5_carnatic/Salem Gayatri Venkatesan at Arkay by Salem Gayatri Venkatesan/Tamburi Mitidava/Tamburi Mitidava.json not found.\n",
      "INFO: Metadata file /Volumes/MyPassport/mir_datasets/saraga1.5_carnatic/saraga1.5_carnatic/Salem Gayatri Venkatesan at Arkay by Salem Gayatri Venkatesan/Sharanu Janakana/Sharanu Janakana.json not found.\n",
      "INFO: Metadata file /Volumes/MyPassport/mir_datasets/saraga1.5_carnatic/saraga1.5_carnatic/Ashwath Narayanan at Arkay by Ashwath Narayanan/Thillana Purnachandrika/Ashwath Narayanan - Thillana Purnachandrika.json not found.\n",
      "INFO: Metadata file /Volumes/MyPassport/mir_datasets/saraga1.5_carnatic/saraga1.5_carnatic/Ashwath Narayanan at Arkay by Ashwath Narayanan/Angakaram/Ashwath Narayanan - Angakaram.json not found.\n",
      "INFO: Metadata file /Volumes/MyPassport/mir_datasets/saraga1.5_carnatic/saraga1.5_carnatic/Ashwath Narayanan at Arkay by Ashwath Narayanan/Samajavarada/Ashwath Narayanan - Samajavarada.json not found.\n",
      "INFO: Metadata file /Volumes/MyPassport/mir_datasets/saraga1.5_carnatic/saraga1.5_carnatic/Ashwath Narayanan at Arkay by Ashwath Narayanan/Evarura/Ashwath Narayanan - Evarura.json not found.\n",
      "INFO: Metadata file /Volumes/MyPassport/mir_datasets/saraga1.5_carnatic/saraga1.5_carnatic/Ashwath Narayanan at Arkay by Ashwath Narayanan/Eranapai/Ashwath Narayanan - Eranapai.json not found.\n",
      "INFO: Metadata file /Volumes/MyPassport/mir_datasets/saraga1.5_carnatic/saraga1.5_carnatic/Ashwath Narayanan at Arkay by Ashwath Narayanan/Parama Purusham/Ashwath Narayanan - Parama Purusham.json not found.\n",
      "INFO: Metadata file /Volumes/MyPassport/mir_datasets/saraga1.5_carnatic/saraga1.5_carnatic/Ashwath Narayanan at Arkay by Ashwath Narayanan/Marubari/Ashwath Narayanan - Marubari.json not found.\n",
      "INFO: Metadata file /Volumes/MyPassport/mir_datasets/saraga1.5_carnatic/saraga1.5_carnatic/Ashwath Narayanan at Arkay by Ashwath Narayanan/Aparadhamula/Ashwath Narayanan - Aparadhamula.json not found.\n",
      "INFO: Metadata file /Volumes/MyPassport/mir_datasets/saraga1.5_carnatic/saraga1.5_carnatic/Ashwath Narayanan at Arkay by Ashwath Narayanan/Sadabalarupapi Shlokam/Ashwath Narayanan - Sadabalarupapi Shlokam.json not found.\n",
      "INFO: Metadata file /Volumes/MyPassport/mir_datasets/saraga1.5_carnatic/saraga1.5_carnatic/Vignesh Ishwar at Nada Inbam by Vignesh Ishwar/Hiranmayeem Lakshmeem/Vignesh Ishwar - Hiranmayeem Lakshmeem.json not found.\n",
      "INFO: Metadata file /Volumes/MyPassport/mir_datasets/saraga1.5_carnatic/saraga1.5_carnatic/Vignesh Ishwar at Nada Inbam by Vignesh Ishwar/Niraimadi Mugam Thiruppugazh/Vignesh Ishwar - Niraimadi Mugam Thiruppugazh.json not found.\n",
      "INFO: Metadata file /Volumes/MyPassport/mir_datasets/saraga1.5_carnatic/saraga1.5_carnatic/Vignesh Ishwar at Nada Inbam by Vignesh Ishwar/Evvari Bodhana/Vignesh Ishwar - Evvari Bodhana.json not found.\n",
      "INFO: Metadata file /Volumes/MyPassport/mir_datasets/saraga1.5_carnatic/saraga1.5_carnatic/Vignesh Ishwar at Nada Inbam by Vignesh Ishwar/Sanchara Dhadhara/Vignesh Ishwar - Sanchara Dhadhara.json not found.\n",
      "INFO: Metadata file /Volumes/MyPassport/mir_datasets/saraga1.5_carnatic/saraga1.5_carnatic/Vignesh Ishwar at Nada Inbam by Vignesh Ishwar/Lokavana Chatura/Vignesh Ishwar - Lokavana Chatura.json not found.\n",
      "INFO: Metadata file /Volumes/MyPassport/mir_datasets/saraga1.5_carnatic/saraga1.5_carnatic/Vignesh Ishwar at Nada Inbam by Vignesh Ishwar/Idhuthaano Thillai Sthalam/Vignesh Ishwar - Idhuthaano Thillai Sthalam.json not found.\n",
      "INFO: Metadata file /Volumes/MyPassport/mir_datasets/saraga1.5_carnatic/saraga1.5_carnatic/Vignesh Ishwar at Nada Inbam by Vignesh Ishwar/Amba Kamakshi/Vignesh Ishwar - Amba Kamakshi.json not found.\n",
      "INFO: Metadata file /Volumes/MyPassport/mir_datasets/saraga1.5_carnatic/saraga1.5_carnatic/Vignesh Ishwar at Nada Inbam by Vignesh Ishwar/Vitthala Salaho Swamy/Vignesh Ishwar - Vitthala Salaho Swamy.json not found.\n",
      "INFO: Metadata file /Volumes/MyPassport/mir_datasets/saraga1.5_carnatic/saraga1.5_carnatic/Vignesh Ishwar at Nada Inbam by Vignesh Ishwar/Pavamana Suthudu Mangalam/Vignesh Ishwar - Pavamana Suthudu Mangalam.json not found.\n",
      "INFO: Metadata file /Volumes/MyPassport/mir_datasets/saraga1.5_carnatic/saraga1.5_carnatic/Vignesh Ishwar at Nada Inbam by Vignesh Ishwar/Karuna Ela Gante/Vignesh Ishwar - Karuna Ela Gante.json not found.\n",
      "INFO: Metadata file /Volumes/MyPassport/mir_datasets/saraga1.5_carnatic/saraga1.5_carnatic/Vignesh Ishwar at Nada Inbam by Vignesh Ishwar/Gopanandana/Vignesh Ishwar - Gopanandana.json not found.\n",
      "INFO: Metadata file /Volumes/MyPassport/mir_datasets/saraga1.5_carnatic/saraga1.5_carnatic/Live at Kamarajar Hall by Sanjay Subrahmanyan/Entara Nitana/Sanjay Subrahmanyan - Entara Nitana.json not found.\n",
      "INFO: Metadata file /Volumes/MyPassport/mir_datasets/saraga1.5_carnatic/saraga1.5_carnatic/Live at Kamarajar Hall by Sanjay Subrahmanyan/Teerthakarayinile/Sanjay Subrahmanyan - Teerthakarayinile.json not found.\n",
      "INFO: Metadata file /Volumes/MyPassport/mir_datasets/saraga1.5_carnatic/saraga1.5_carnatic/Live at Kamarajar Hall by Sanjay Subrahmanyan/Thillana Dhanashri/Sanjay Subrahmanyan - Thillana Dhanashri.json not found.\n",
      "INFO: Metadata file /Volumes/MyPassport/mir_datasets/saraga1.5_carnatic/saraga1.5_carnatic/Live at Kamarajar Hall by Sanjay Subrahmanyan/Ozhukkam Uyirinum/Sanjay Subrahmanyan - Ozhukkam Uyirinum.json not found.\n",
      "INFO: Metadata file /Volumes/MyPassport/mir_datasets/saraga1.5_carnatic/saraga1.5_carnatic/Live at Kamarajar Hall by Sanjay Subrahmanyan/Undan Paada Pankayam/Sanjay Subrahmanyan - Undan Paada Pankayam.json not found.\n",
      "INFO: Metadata file /Volumes/MyPassport/mir_datasets/saraga1.5_carnatic/saraga1.5_carnatic/Live at Kamarajar Hall by Sanjay Subrahmanyan/Raagam Thaanam Pallavi/Sanjay Subrahmanyan - Raagam Thaanam Pallavi.json not found.\n",
      "INFO: Metadata file /Volumes/MyPassport/mir_datasets/saraga1.5_carnatic/saraga1.5_carnatic/Live at Kamarajar Hall by Sanjay Subrahmanyan/Pavamana Suthudu/Sanjay Subrahmanyan - Pavamana Suthudu.json not found.\n",
      "INFO: Metadata file /Volumes/MyPassport/mir_datasets/saraga1.5_carnatic/saraga1.5_carnatic/Live at Kamarajar Hall by Sanjay Subrahmanyan/Kamakshi/Sanjay Subrahmanyan - Kamakshi.json not found.\n"
     ]
    },
    {
     "name": "stderr",
     "output_type": "stream",
     "text": [
      "INFO: Metadata file /Volumes/MyPassport/mir_datasets/saraga1.5_carnatic/saraga1.5_carnatic/Live at Kamarajar Hall by Sanjay Subrahmanyan/Soundararajam/Sanjay Subrahmanyan - Soundararajam.json not found.\n",
      "INFO: Metadata file /Volumes/MyPassport/mir_datasets/saraga1.5_carnatic/saraga1.5_carnatic/Live at Kamarajar Hall by Sanjay Subrahmanyan/Payum Oli Nee Yenakku/Sanjay Subrahmanyan - Payum Oli Nee Yenakku.json not found.\n",
      "INFO: Metadata file /Volumes/MyPassport/mir_datasets/saraga1.5_carnatic/saraga1.5_carnatic/Live at Kamarajar Hall by Sanjay Subrahmanyan/Shatre Vilagi Irum/Sanjay Subrahmanyan - Shatre Vilagi Irum.json not found.\n",
      "INFO: Metadata file /Volumes/MyPassport/mir_datasets/saraga1.5_carnatic/saraga1.5_carnatic/Live at Kamarajar Hall by Sanjay Subrahmanyan/Maname Ramanai Paada/Sanjay Subrahmanyan - Maname Ramanai Paada.json not found.\n",
      "INFO: Metadata file /Volumes/MyPassport/mir_datasets/saraga1.5_carnatic/saraga1.5_carnatic/Akkarai Sisters at Arkay by Akkarai Sisters/Apparama Bhakti/Apparama Bhakti.json not found.\n",
      "INFO: Metadata file /Volumes/MyPassport/mir_datasets/saraga1.5_carnatic/saraga1.5_carnatic/Akkarai Sisters at Arkay by Akkarai Sisters/Manadirkkugandhadu/Manadirkkugandhadu.json not found.\n",
      "INFO: Metadata file /Volumes/MyPassport/mir_datasets/saraga1.5_carnatic/saraga1.5_carnatic/Akkarai Sisters at Arkay by Akkarai Sisters/Koti Janmani/Koti Janmani.json not found.\n",
      "INFO: Metadata file /Volumes/MyPassport/mir_datasets/saraga1.5_carnatic/saraga1.5_carnatic/Akkarai Sisters at Arkay by Akkarai Sisters/Brova Barama/Brova Barama.json not found.\n",
      "INFO: Metadata file /Volumes/MyPassport/mir_datasets/saraga1.5_carnatic/saraga1.5_carnatic/Akkarai Sisters at Arkay by Akkarai Sisters/Shankari Shankuru/Shankari Shankuru.json not found.\n",
      "INFO: Metadata file /Volumes/MyPassport/mir_datasets/saraga1.5_carnatic/saraga1.5_carnatic/Akkarai Sisters at Arkay by Akkarai Sisters/Karunimpa Idi/Karunimpa Idi.json not found.\n",
      "INFO: Metadata file /Volumes/MyPassport/mir_datasets/saraga1.5_carnatic/saraga1.5_carnatic/Akkarai Sisters at Arkay by Akkarai Sisters/Pavamana Suthudu Mangalam/Pavamana Suthudu Mangalam.json not found.\n",
      "INFO: Metadata file /Volumes/MyPassport/mir_datasets/saraga1.5_carnatic/saraga1.5_carnatic/Akkarai Sisters at Arkay by Akkarai Sisters/Geeta Nayakan/Geeta Nayakan.json not found.\n",
      "INFO: Metadata file /Volumes/MyPassport/mir_datasets/saraga1.5_carnatic/saraga1.5_carnatic/Akkarai Sisters at Arkay by Akkarai Sisters/Siddhi Vinayakam/Siddhi Vinayakam.json not found.\n",
      "INFO: Metadata file /Volumes/MyPassport/mir_datasets/saraga1.5_carnatic/saraga1.5_carnatic/Akkarai Sisters at Arkay by Akkarai Sisters/Thillana Pahadi/Thillana Pahadi.json not found.\n",
      "INFO: Metadata file /Volumes/MyPassport/mir_datasets/saraga1.5_carnatic/saraga1.5_carnatic/Dr S Sundar at Arkay by S Sundar/Enadhu Manam Kavalai/Enadhu Manam Kavalai.json not found.\n",
      "INFO: Metadata file /Volumes/MyPassport/mir_datasets/saraga1.5_carnatic/saraga1.5_carnatic/Dr S Sundar at Arkay by S Sundar/Purahara Nandana/Purahara Nandana.json not found.\n",
      "INFO: Metadata file /Volumes/MyPassport/mir_datasets/saraga1.5_carnatic/saraga1.5_carnatic/Dr S Sundar at Arkay by S Sundar/Nannu Brova Neeku/Nannu Brova Neeku.json not found.\n",
      "INFO: Metadata file /Volumes/MyPassport/mir_datasets/saraga1.5_carnatic/saraga1.5_carnatic/Dr S Sundar at Arkay by S Sundar/Nera Nammiti/Nera Nammiti.json not found.\n",
      "INFO: Metadata file /Volumes/MyPassport/mir_datasets/saraga1.5_carnatic/saraga1.5_carnatic/Dr S Sundar at Arkay by S Sundar/Parvathi Ninnu Neranammiti/Parvathi Ninnu Neranammiti.json not found.\n",
      "INFO: Metadata file /Volumes/MyPassport/mir_datasets/saraga1.5_carnatic/saraga1.5_carnatic/Dr S Sundar at Arkay by S Sundar/Geetha Vaadya Natana/Geetha Vaadya Natana.json not found.\n",
      "INFO: Metadata file /Volumes/MyPassport/mir_datasets/saraga1.5_carnatic/saraga1.5_carnatic/Dr S Sundar at Arkay by S Sundar/Sudhaamayee/Sudhaamayee.json not found.\n",
      "INFO: Metadata file /Volumes/MyPassport/mir_datasets/saraga1.5_carnatic/saraga1.5_carnatic/Dr S Sundar at Arkay by S Sundar/Shloka Namaste Sarvalokaanam/Shloka Namaste Sarvalokaanam.json not found.\n",
      "INFO: Metadata file /Volumes/MyPassport/mir_datasets/saraga1.5_carnatic/saraga1.5_carnatic/Dr S Sundar at Arkay by S Sundar/Vanajaksha Ninne Nammiti/Vanajaksha Ninne Nammiti.json not found.\n",
      "INFO: Metadata file /Volumes/MyPassport/mir_datasets/saraga1.5_carnatic/saraga1.5_carnatic/Dr S Sundar at Arkay by S Sundar/Jaya Jaya Padmanabhanujese/Jaya Jaya Padmanabhanujese.json not found.\n",
      "INFO: Metadata file /Volumes/MyPassport/mir_datasets/saraga1.5_carnatic/saraga1.5_carnatic/Dr S Sundar at Arkay by S Sundar/Devadi Devanukku Jaya Mangalam/Devadi Devanukku Jaya Mangalam.json not found.\n",
      "INFO: Metadata file /Volumes/MyPassport/mir_datasets/saraga1.5_carnatic/saraga1.5_carnatic/Dr S Sundar at Arkay by S Sundar/Kannanai Paadu Maname/Kannanai Paadu Maname.json not found.\n",
      "INFO: Metadata file /Volumes/MyPassport/mir_datasets/saraga1.5_carnatic/saraga1.5_carnatic/Dr S Sundar at Arkay by S Sundar/Paahi Maam Sri/Paahi Maam Sri.json not found.\n",
      "INFO: Metadata file /Volumes/MyPassport/mir_datasets/saraga1.5_carnatic/saraga1.5_carnatic/Dr S Sundar at Arkay by S Sundar/Eppadi Manam Thunindhadho/Eppadi Manam Thunindhadho.json not found.\n",
      "INFO: Metadata file /Volumes/MyPassport/mir_datasets/saraga1.5_carnatic/saraga1.5_carnatic/Vasundara Rajagopal at Arkay by Vasundara Rajagopal/Munnu Ravana/Munnu Ravana.json not found.\n",
      "INFO: Metadata file /Volumes/MyPassport/mir_datasets/saraga1.5_carnatic/saraga1.5_carnatic/Vasundara Rajagopal at Arkay by Vasundara Rajagopal/Shlokham/Shlokham.json not found.\n",
      "INFO: Metadata file /Volumes/MyPassport/mir_datasets/saraga1.5_carnatic/saraga1.5_carnatic/Vasundara Rajagopal at Arkay by Vasundara Rajagopal/Pranamamyaham Sri Prananatham/Pranamamyaham Sri Prananatham.json not found.\n",
      "INFO: Metadata file /Volumes/MyPassport/mir_datasets/saraga1.5_carnatic/saraga1.5_carnatic/Vasundara Rajagopal at Arkay by Vasundara Rajagopal/Ni Ninaindhal Aagadhadhu/Ni Ninaindhal Aagadhadhu.json not found.\n",
      "INFO: Metadata file /Volumes/MyPassport/mir_datasets/saraga1.5_carnatic/saraga1.5_carnatic/Vasundara Rajagopal at Arkay by Vasundara Rajagopal/Chandrashekharam Sada Bhajeham/Chandrashekharam Sada Bhajeham.json not found.\n",
      "INFO: Metadata file /Volumes/MyPassport/mir_datasets/saraga1.5_carnatic/saraga1.5_carnatic/Vasundara Rajagopal at Arkay by Vasundara Rajagopal/Sri Jalandara/Sri Jalandara.json not found.\n",
      "INFO: Metadata file /Volumes/MyPassport/mir_datasets/saraga1.5_carnatic/saraga1.5_carnatic/Vasundara Rajagopal at Arkay by Vasundara Rajagopal/Amba Nilambari/Amba Nilambari.json not found.\n",
      "INFO: Metadata file /Volumes/MyPassport/mir_datasets/saraga1.5_carnatic/saraga1.5_carnatic/Vasundara Rajagopal at Arkay by Vasundara Rajagopal/Ninnuvina Marigalada/Ninnuvina Marigalada.json not found.\n",
      "INFO: Metadata file /Volumes/MyPassport/mir_datasets/saraga1.5_carnatic/saraga1.5_carnatic/Vasundara Rajagopal at Arkay by Vasundara Rajagopal/Avani Sutha/Avani Sutha.json not found.\n",
      "INFO: Metadata file /Volumes/MyPassport/mir_datasets/saraga1.5_carnatic/saraga1.5_carnatic/Kanakadurga Venkatesh at Arkay by Kanakadurga Venkatesh/Rama Neepai/Rama Neepai.json not found.\n",
      "INFO: Metadata file /Volumes/MyPassport/mir_datasets/saraga1.5_carnatic/saraga1.5_carnatic/Kanakadurga Venkatesh at Arkay by Kanakadurga Venkatesh/Etulabrotuva/Etulabrotuva.json not found.\n",
      "INFO: Metadata file /Volumes/MyPassport/mir_datasets/saraga1.5_carnatic/saraga1.5_carnatic/Kanakadurga Venkatesh at Arkay by Kanakadurga Venkatesh/Lokavana Chatura/Lokavana Chatura.json not found.\n",
      "INFO: Metadata file /Volumes/MyPassport/mir_datasets/saraga1.5_carnatic/saraga1.5_carnatic/Kanakadurga Venkatesh at Arkay by Kanakadurga Venkatesh/Enthavedukonthu Raghava/Enthavedukonthu Raghava.json not found.\n",
      "INFO: Metadata file /Volumes/MyPassport/mir_datasets/saraga1.5_carnatic/saraga1.5_carnatic/Kanakadurga Venkatesh at Arkay by Kanakadurga Venkatesh/Koluvamaregatha/Koluvamaregatha.json not found.\n",
      "INFO: Metadata file /Volumes/MyPassport/mir_datasets/saraga1.5_carnatic/saraga1.5_carnatic/Kanakadurga Venkatesh at Arkay by Kanakadurga Venkatesh/Neevada Negana/Neevada Negana.json not found.\n"
     ]
    },
    {
     "name": "stderr",
     "output_type": "stream",
     "text": [
      "INFO: Metadata file /Volumes/MyPassport/mir_datasets/saraga1.5_carnatic/saraga1.5_carnatic/Kanakadurga Venkatesh at Arkay by Kanakadurga Venkatesh/Vara Leela Gana Lola/Vara Leela Gana Lola.json not found.\n",
      "INFO: Metadata file /Volumes/MyPassport/mir_datasets/saraga1.5_carnatic/saraga1.5_carnatic/Mahati at Arkay by Mahati/Chinnanchiru Kiliye/Chinnanchiru Kiliye.json not found.\n",
      "INFO: Metadata file /Volumes/MyPassport/mir_datasets/saraga1.5_carnatic/saraga1.5_carnatic/Mahati at Arkay by Mahati/Gopi Gopala Bala/Gopi Gopala Bala.json not found.\n",
      "INFO: Metadata file /Volumes/MyPassport/mir_datasets/saraga1.5_carnatic/saraga1.5_carnatic/Mahati at Arkay by Mahati/Pavamana Suttudu Pattu/Pavamana Suttudu Pattu.json not found.\n",
      "INFO: Metadata file /Volumes/MyPassport/mir_datasets/saraga1.5_carnatic/saraga1.5_carnatic/Mahati at Arkay by Mahati/Kannallavo Swami/Kannallavo Swami.json not found.\n",
      "INFO: Metadata file /Volumes/MyPassport/mir_datasets/saraga1.5_carnatic/saraga1.5_carnatic/Mahati at Arkay by Mahati/Padavini/Padavini.json not found.\n",
      "INFO: Metadata file /Volumes/MyPassport/mir_datasets/saraga1.5_carnatic/saraga1.5_carnatic/Mahati at Arkay by Mahati/Vandu Ketpaar Illayo/Vandu Ketpaar Illayo.json not found.\n",
      "INFO: Metadata file /Volumes/MyPassport/mir_datasets/saraga1.5_carnatic/saraga1.5_carnatic/Mahati at Arkay by Mahati/Ragam Tanam Pallavi/Ragam Tanam Pallavi.json not found.\n",
      "INFO: Metadata file /Volumes/MyPassport/mir_datasets/saraga1.5_carnatic/saraga1.5_carnatic/Mahati at Arkay by Mahati/Tillana/Tillana.json not found.\n",
      "INFO: Metadata file /Volumes/MyPassport/mir_datasets/saraga1.5_carnatic/saraga1.5_carnatic/Mahati at Arkay by Mahati/Sharanagatha Vatsale/Sharanagatha Vatsale.json not found.\n",
      "INFO: Metadata file /Volumes/MyPassport/mir_datasets/saraga1.5_carnatic/saraga1.5_carnatic/Mahati at Arkay by Mahati/Hiranmayeem/Hiranmayeem.json not found.\n",
      "INFO: Metadata file /Volumes/MyPassport/mir_datasets/saraga1.5_carnatic/saraga1.5_carnatic/N J Nandini in Arkay by N J Nandini/Sogasuga/Sogasuga.json not found.\n",
      "INFO: Metadata file /Volumes/MyPassport/mir_datasets/saraga1.5_carnatic/saraga1.5_carnatic/N J Nandini in Arkay by N J Nandini/Dharini Telusukonti/Dharini Telusukonti.json not found.\n",
      "INFO: Metadata file /Volumes/MyPassport/mir_datasets/saraga1.5_carnatic/saraga1.5_carnatic/N J Nandini in Arkay by N J Nandini/Merusamana/Merusamana.json not found.\n",
      "INFO: Metadata file /Volumes/MyPassport/mir_datasets/saraga1.5_carnatic/saraga1.5_carnatic/N J Nandini in Arkay by N J Nandini/Marugelara/Marugelara.json not found.\n",
      "INFO: Metadata file /Volumes/MyPassport/mir_datasets/saraga1.5_carnatic/saraga1.5_carnatic/N J Nandini in Arkay by N J Nandini/Karuna Ela Gante/Karuna Ela Gante.json not found.\n",
      "INFO: Metadata file /Volumes/MyPassport/mir_datasets/saraga1.5_carnatic/saraga1.5_carnatic/Live at Vani Mahal by Sanjay Subrahmanyan/Pavamaana Suthudu Pattu/Sanjay Subrahmanyan - Pavamaana Suthudu Pattu.json not found.\n",
      "INFO: Metadata file /Volumes/MyPassport/mir_datasets/saraga1.5_carnatic/saraga1.5_carnatic/Live at Vani Mahal by Sanjay Subrahmanyan/Maname Kanamum/Sanjay Subrahmanyan - Maname Kanamum.json not found.\n",
      "INFO: Metadata file /Volumes/MyPassport/mir_datasets/saraga1.5_carnatic/saraga1.5_carnatic/Live at Vani Mahal by Sanjay Subrahmanyan/Ennadu Jootuno/Sanjay Subrahmanyan - Ennadu Jootuno.json not found.\n",
      "INFO: Metadata file /Volumes/MyPassport/mir_datasets/saraga1.5_carnatic/saraga1.5_carnatic/Live at Vani Mahal by Sanjay Subrahmanyan/Paarengum/Sanjay Subrahmanyan - Paarengum.json not found.\n",
      "INFO: Metadata file /Volumes/MyPassport/mir_datasets/saraga1.5_carnatic/saraga1.5_carnatic/Live at Vani Mahal by Sanjay Subrahmanyan/Saravanabhava Enum/Sanjay Subrahmanyan - Saravanabhava Enum.json not found.\n",
      "INFO: Metadata file /Volumes/MyPassport/mir_datasets/saraga1.5_carnatic/saraga1.5_carnatic/Live at Vani Mahal by Sanjay Subrahmanyan/Karuvutranaal Mudalaaga/Sanjay Subrahmanyan - Karuvutranaal Mudalaaga.json not found.\n",
      "INFO: Metadata file /Volumes/MyPassport/mir_datasets/saraga1.5_carnatic/saraga1.5_carnatic/Live at Vani Mahal by Sanjay Subrahmanyan/Aru marundu/Sanjay Subrahmanyan - Aru marundu.json not found.\n",
      "INFO: Metadata file /Volumes/MyPassport/mir_datasets/saraga1.5_carnatic/saraga1.5_carnatic/Live at Vani Mahal by Sanjay Subrahmanyan/Eranapai/Sanjay Subrahmanyan - Eranapai.json not found.\n",
      "INFO: Metadata file /Volumes/MyPassport/mir_datasets/saraga1.5_carnatic/saraga1.5_carnatic/Live at Vani Mahal by Sanjay Subrahmanyan/Pullum Silambena Kan/Sanjay Subrahmanyan - Pullum Silambena Kan.json not found.\n",
      "INFO: Metadata file /Volumes/MyPassport/mir_datasets/saraga1.5_carnatic/saraga1.5_carnatic/Live at Vani Mahal by Sanjay Subrahmanyan/Sri Raghuvara Sugunaalaya/Sanjay Subrahmanyan - Sri Raghuvara Sugunaalaya.json not found.\n",
      "INFO: Metadata file /Volumes/MyPassport/mir_datasets/saraga1.5_carnatic/saraga1.5_carnatic/Live at Vani Mahal by Sanjay Subrahmanyan/Ragam Thanam Pallavi - Shanmukhapriya/Sanjay Subrahmanyan - Ragam Thanam Pallavi - Shanmukhapriya.json not found.\n",
      "INFO: Metadata file /Volumes/MyPassport/mir_datasets/saraga1.5_carnatic/saraga1.5_carnatic/Live at Vani Mahal by Sanjay Subrahmanyan/Sarasadalanayana/Sanjay Subrahmanyan - Sarasadalanayana.json not found.\n",
      "INFO: Metadata file /Volumes/MyPassport/mir_datasets/saraga1.5_carnatic/saraga1.5_carnatic/Cherthala Ranganatha Sharma at Arkay by Cherthala Ranganatha Sharma/Rama Rama Guna Seema/Rama Rama Guna Seema.json not found.\n",
      "INFO: Metadata file /Volumes/MyPassport/mir_datasets/saraga1.5_carnatic/saraga1.5_carnatic/Cherthala Ranganatha Sharma at Arkay by Cherthala Ranganatha Sharma/Prathi Vaaram Vaaram/Prathi Vaaram Vaaram.json not found.\n",
      "INFO: Metadata file /Volumes/MyPassport/mir_datasets/saraga1.5_carnatic/saraga1.5_carnatic/Cherthala Ranganatha Sharma at Arkay by Cherthala Ranganatha Sharma/Varashiki Vahana/Varashiki Vahana.json not found.\n",
      "INFO: Metadata file /Volumes/MyPassport/mir_datasets/saraga1.5_carnatic/saraga1.5_carnatic/Cherthala Ranganatha Sharma at Arkay by Cherthala Ranganatha Sharma/Idhu Thaano Thillai Sthalam/Idhu Thaano Thillai Sthalam.json not found.\n",
      "INFO: Metadata file /Volumes/MyPassport/mir_datasets/saraga1.5_carnatic/saraga1.5_carnatic/Cherthala Ranganatha Sharma at Arkay by Cherthala Ranganatha Sharma/Bhuvini Dasudane/Bhuvini Dasudane.json not found.\n",
      "INFO: Metadata file /Volumes/MyPassport/mir_datasets/saraga1.5_carnatic/saraga1.5_carnatic/Cherthala Ranganatha Sharma at Arkay by Cherthala Ranganatha Sharma/Karuna Nidhi Illalo/Karuna Nidhi Illalo.json not found.\n",
      "INFO: Metadata file /Volumes/MyPassport/mir_datasets/saraga1.5_carnatic/saraga1.5_carnatic/Cherthala Ranganatha Sharma at Arkay by Cherthala Ranganatha Sharma/Tulasi Bilva/Tulasi Bilva.json not found.\n",
      "INFO: Metadata file /Volumes/MyPassport/mir_datasets/saraga1.5_carnatic/saraga1.5_carnatic/Cherthala Ranganatha Sharma at Arkay by Cherthala Ranganatha Sharma/Shlokam - Shivah Shaktyayukto/Shlokam - Shivah Shaktyayukto.json not found.\n",
      "INFO: Metadata file /Volumes/MyPassport/mir_datasets/saraga1.5_carnatic/saraga1.5_carnatic/Cherthala Ranganatha Sharma at Arkay by Cherthala Ranganatha Sharma/Velum Mayilume/Velum Mayilume.json not found.\n",
      "INFO: Metadata file /Volumes/MyPassport/mir_datasets/saraga1.5_carnatic/saraga1.5_carnatic/Prema Rangarajan at Arkay by Prema Rangarajan/Tolinenu Jesina/Tolinenu Jesina.json not found.\n",
      "INFO: Metadata file /Volumes/MyPassport/mir_datasets/saraga1.5_carnatic/saraga1.5_carnatic/Prema Rangarajan at Arkay by Prema Rangarajan/Kailasapathe/Kailasapathe.json not found.\n",
      "INFO: Metadata file /Volumes/MyPassport/mir_datasets/saraga1.5_carnatic/saraga1.5_carnatic/Prema Rangarajan at Arkay by Prema Rangarajan/Shri Kamakshi Shritajana/Shri Kamakshi Shritajana.json not found.\n",
      "INFO: Metadata file /Volumes/MyPassport/mir_datasets/saraga1.5_carnatic/saraga1.5_carnatic/Prema Rangarajan at Arkay by Prema Rangarajan/Thillana Vasanta/Thillana Vasanta.json not found.\n",
      "INFO: Metadata file /Volumes/MyPassport/mir_datasets/saraga1.5_carnatic/saraga1.5_carnatic/Prema Rangarajan at Arkay by Prema Rangarajan/Nera Nammiti/Nera Nammiti.json not found.\n",
      "INFO: Metadata file /Volumes/MyPassport/mir_datasets/saraga1.5_carnatic/saraga1.5_carnatic/Prema Rangarajan at Arkay by Prema Rangarajan/Lalitha Lavanga/Lalitha Lavanga.json not found.\n"
     ]
    },
    {
     "name": "stderr",
     "output_type": "stream",
     "text": [
      "INFO: Metadata file /Volumes/MyPassport/mir_datasets/saraga1.5_carnatic/saraga1.5_carnatic/Prema Rangarajan at Arkay by Prema Rangarajan/Thamarai Kangal/Thamarai Kangal.json not found.\n",
      "INFO: Metadata file /Volumes/MyPassport/mir_datasets/saraga1.5_carnatic/saraga1.5_carnatic/Prema Rangarajan at Arkay by Prema Rangarajan/Gam Ganapate/Gam Ganapate.json not found.\n",
      "INFO: Metadata file /Volumes/MyPassport/mir_datasets/saraga1.5_carnatic/saraga1.5_carnatic/Prema Rangarajan at Arkay by Prema Rangarajan/Karunajaladhe/Karunajaladhe.json not found.\n",
      "INFO: Metadata file /Volumes/MyPassport/mir_datasets/saraga1.5_carnatic/saraga1.5_carnatic/Modhumudi Sudhakar at Arkay by Modhumudi Sudhakar/Ghandhamu Poyyaruga/Ghandhamu Poyyaruga.json not found.\n",
      "INFO: Metadata file /Volumes/MyPassport/mir_datasets/saraga1.5_carnatic/saraga1.5_carnatic/Modhumudi Sudhakar at Arkay by Modhumudi Sudhakar/Koluvaiyunnade/Koluvaiyunnade.json not found.\n",
      "INFO: Metadata file /Volumes/MyPassport/mir_datasets/saraga1.5_carnatic/saraga1.5_carnatic/Modhumudi Sudhakar at Arkay by Modhumudi Sudhakar/Entha Muddo/Entha Muddo.json not found.\n",
      "INFO: Metadata file /Volumes/MyPassport/mir_datasets/saraga1.5_carnatic/saraga1.5_carnatic/Modhumudi Sudhakar at Arkay by Modhumudi Sudhakar/Paramatmudu/Paramatmudu.json not found.\n",
      "INFO: Metadata file /Volumes/MyPassport/mir_datasets/saraga1.5_carnatic/saraga1.5_carnatic/Modhumudi Sudhakar at Arkay by Modhumudi Sudhakar/Giriraja Suta/Giriraja Suta.json not found.\n",
      "INFO: Metadata file /Volumes/MyPassport/mir_datasets/saraga1.5_carnatic/saraga1.5_carnatic/Modhumudi Sudhakar at Arkay by Modhumudi Sudhakar/Paraloka Bhaya/Paraloka Bhaya.json not found.\n",
      "INFO: Metadata file /Volumes/MyPassport/mir_datasets/saraga1.5_carnatic/saraga1.5_carnatic/Modhumudi Sudhakar at Arkay by Modhumudi Sudhakar/Dudukugala/Dudukugala.json not found.\n",
      "INFO: Metadata file /Volumes/MyPassport/mir_datasets/saraga1.5_carnatic/saraga1.5_carnatic/Modhumudi Sudhakar at Arkay by Modhumudi Sudhakar/Telisi Rama/Telisi Rama.json not found.\n",
      "INFO: Metadata file /Volumes/MyPassport/mir_datasets/saraga1.5_carnatic/saraga1.5_carnatic/Modhumudi Sudhakar at Arkay by Modhumudi Sudhakar/Eramuni/Eramuni.json not found.\n",
      "INFO: Metadata file /Volumes/MyPassport/mir_datasets/saraga1.5_carnatic/saraga1.5_carnatic/Modhumudi Sudhakar at Arkay by Modhumudi Sudhakar/Mangalam Avanisutanatha/Mangalam Avanisutanatha.json not found.\n",
      "INFO: Metadata file /Volumes/MyPassport/mir_datasets/saraga1.5_carnatic/saraga1.5_carnatic/Modhumudi Sudhakar at Arkay by Modhumudi Sudhakar/Edari Sancharintura/Edari Sancharintura.json not found.\n",
      "INFO: Metadata file /Volumes/MyPassport/mir_datasets/saraga1.5_carnatic/saraga1.5_carnatic/Modhumudi Sudhakar at Arkay by Modhumudi Sudhakar/Rama Namam Bhajare/Rama Namam Bhajare.json not found.\n",
      "INFO: Metadata file /Volumes/MyPassport/mir_datasets/saraga1.5_carnatic/saraga1.5_carnatic/Modhumudi Sudhakar at Arkay by Modhumudi Sudhakar/Shobillu Saptasvara/Shobillu Saptasvara.json not found.\n",
      "INFO: Metadata file /Volumes/MyPassport/mir_datasets/saraga1.5_carnatic/saraga1.5_carnatic/Modhumudi Sudhakar at Arkay by Modhumudi Sudhakar/Sundari Nee Divya/Sundari Nee Divya.json not found.\n",
      "INFO: Metadata file /Volumes/MyPassport/mir_datasets/saraga1.5_carnatic/saraga1.5_carnatic/Vidya Subramanian at Arkay by Vidya Subramanian/Vinakayunna Della/Vinakayunna Della.json not found.\n",
      "INFO: Metadata file /Volumes/MyPassport/mir_datasets/saraga1.5_carnatic/saraga1.5_carnatic/Vidya Subramanian at Arkay by Vidya Subramanian/Janakipathe/Janakipathe.json not found.\n",
      "INFO: Metadata file /Volumes/MyPassport/mir_datasets/saraga1.5_carnatic/saraga1.5_carnatic/Vidya Subramanian at Arkay by Vidya Subramanian/Shri Guruguhasya/Shri Guruguhasya.json not found.\n",
      "INFO: Metadata file /Volumes/MyPassport/mir_datasets/saraga1.5_carnatic/saraga1.5_carnatic/Vidya Subramanian at Arkay by Vidya Subramanian/Jootamu Rare/Jootamu Rare.json not found.\n",
      "INFO: Metadata file /Volumes/MyPassport/mir_datasets/saraga1.5_carnatic/saraga1.5_carnatic/Vidya Subramanian at Arkay by Vidya Subramanian/Thanaithilam Kattrerumai/Thanaithilam Kattrerumai.json not found.\n",
      "INFO: Metadata file /Volumes/MyPassport/mir_datasets/saraga1.5_carnatic/saraga1.5_carnatic/Vidya Subramanian at Arkay by Vidya Subramanian/Kanakangaka Guha/Kanakangaka Guha.json not found.\n",
      "INFO: Metadata file /Volumes/MyPassport/mir_datasets/saraga1.5_carnatic/saraga1.5_carnatic/Vidya Subramanian at Arkay by Vidya Subramanian/Shloka/Shloka.json not found.\n",
      "INFO: Metadata file /Volumes/MyPassport/mir_datasets/saraga1.5_carnatic/saraga1.5_carnatic/Vidya Subramanian at Arkay by Vidya Subramanian/Thillana Hameerkalyani/Thillana Hameerkalyani.json not found.\n",
      "INFO: Metadata file /Volumes/MyPassport/mir_datasets/saraga1.5_carnatic/saraga1.5_carnatic/Sanjay at Sastri Hall by Sanjay Subrahmanyan/Vanajakshi - Varnam/Sanjay Subrahmanyan - Vanajakshi - Varnam.json not found.\n",
      "INFO: Metadata file /Volumes/MyPassport/mir_datasets/saraga1.5_carnatic/saraga1.5_carnatic/Sanjay at Sastri Hall by Sanjay Subrahmanyan/Teerthakarayinile/Sanjay Subrahmanyan - Teerthakarayinile.json not found.\n",
      "INFO: Metadata file /Volumes/MyPassport/mir_datasets/saraga1.5_carnatic/saraga1.5_carnatic/Sanjay at Sastri Hall by Sanjay Subrahmanyan/Innamum Oru thalam/Sanjay Subrahmanyan - Innamum Oru thalam.json not found.\n",
      "INFO: Metadata file /Volumes/MyPassport/mir_datasets/saraga1.5_carnatic/saraga1.5_carnatic/Sanjay at Sastri Hall by Sanjay Subrahmanyan/Nadopasana/Sanjay Subrahmanyan - Nadopasana.json not found.\n",
      "INFO: Metadata file /Volumes/MyPassport/mir_datasets/saraga1.5_carnatic/saraga1.5_carnatic/Sanjay at Sastri Hall by Sanjay Subrahmanyan/Ganta mani aadudhu/Sanjay Subrahmanyan - Ganta mani aadudhu.json not found.\n",
      "INFO: Metadata file /Volumes/MyPassport/mir_datasets/saraga1.5_carnatic/saraga1.5_carnatic/Sanjay at Sastri Hall by Sanjay Subrahmanyan/Janani/Sanjay Subrahmanyan - Janani.json not found.\n",
      "INFO: Metadata file /Volumes/MyPassport/mir_datasets/saraga1.5_carnatic/saraga1.5_carnatic/Sanjay at Sastri Hall by Sanjay Subrahmanyan/Oorilen Kaani Illai/Sanjay Subrahmanyan - Oorilen Kaani Illai.json not found.\n",
      "INFO: Metadata file /Volumes/MyPassport/mir_datasets/saraga1.5_carnatic/saraga1.5_carnatic/Sanjay at Sastri Hall by Sanjay Subrahmanyan/Ramakrishnaru Manaegae/Sanjay Subrahmanyan - Ramakrishnaru Manaegae.json not found.\n",
      "INFO: Metadata file /Volumes/MyPassport/mir_datasets/saraga1.5_carnatic/saraga1.5_carnatic/Sanjay at Sastri Hall by Sanjay Subrahmanyan/Uppum karpuramum/Sanjay Subrahmanyan - Uppum karpuramum.json not found.\n",
      "INFO: Metadata file /Volumes/MyPassport/mir_datasets/saraga1.5_carnatic/saraga1.5_carnatic/Sanjay at Sastri Hall by Sanjay Subrahmanyan/Chalamelara Saketha Rama/Sanjay Subrahmanyan - Chalamelara Saketha Rama.json not found.\n",
      "INFO: Metadata file /Volumes/MyPassport/mir_datasets/saraga1.5_carnatic/saraga1.5_carnatic/Sanjay at Sastri Hall by Sanjay Subrahmanyan/Kalilo Hari Smrana/Sanjay Subrahmanyan - Kalilo Hari Smrana.json not found.\n",
      "INFO: Metadata file /Volumes/MyPassport/mir_datasets/saraga1.5_carnatic/saraga1.5_carnatic/Sanjay at Sastri Hall by Sanjay Subrahmanyan/Ninnaiye rathi/Sanjay Subrahmanyan - Ninnaiye rathi.json not found.\n",
      "INFO: Metadata file /Volumes/MyPassport/mir_datasets/saraga1.5_carnatic/saraga1.5_carnatic/Sanjay at Sastri Hall by Sanjay Subrahmanyan/Mangalam/Sanjay Subrahmanyan - Mangalam.json not found.\n",
      "INFO: Metadata file /Volumes/MyPassport/mir_datasets/saraga1.5_carnatic/saraga1.5_carnatic/Sanjay at Sastri Hall by Sanjay Subrahmanyan/Deenarakshaka/Sanjay Subrahmanyan - Deenarakshaka.json not found.\n",
      "INFO: Metadata file /Volumes/MyPassport/mir_datasets/saraga1.5_carnatic/saraga1.5_carnatic/Sanjay at Sastri Hall by Sanjay Subrahmanyan/O Rangashayee/Sanjay Subrahmanyan - O Rangashayee.json not found.\n",
      "INFO: Metadata file /Volumes/MyPassport/mir_datasets/saraga1.5_carnatic/saraga1.5_carnatic/Sanjay at Sastri Hall by Sanjay Subrahmanyan/Sama geeta priyan/Sanjay Subrahmanyan - Sama geeta priyan.json not found.\n",
      "INFO: Metadata file /Volumes/MyPassport/mir_datasets/saraga1.5_carnatic/saraga1.5_carnatic/Sanjay at Sastri Hall by Sanjay Subrahmanyan/Karupuram Naarumo/Sanjay Subrahmanyan - Karupuram Naarumo.json not found.\n"
     ]
    },
    {
     "name": "stderr",
     "output_type": "stream",
     "text": [
      "INFO: Metadata file /Volumes/MyPassport/mir_datasets/saraga1.5_carnatic/saraga1.5_carnatic/Sanjay at Sastri Hall by Sanjay Subrahmanyan/Va vela va/Sanjay Subrahmanyan - Va vela va.json not found.\n",
      "INFO: Metadata file /Volumes/MyPassport/mir_datasets/saraga1.5_carnatic/saraga1.5_carnatic/Kuldeep Pai at Arkay by Kuldeep Pai/Gange Maam Pahi/Gange Maam Pahi.json not found.\n",
      "INFO: Metadata file /Volumes/MyPassport/mir_datasets/saraga1.5_carnatic/saraga1.5_carnatic/Kuldeep Pai at Arkay by Kuldeep Pai/Arul Seya Vendum Ayya/Arul Seya Vendum Ayya.json not found.\n",
      "INFO: Metadata file /Volumes/MyPassport/mir_datasets/saraga1.5_carnatic/saraga1.5_carnatic/Kuldeep Pai at Arkay by Kuldeep Pai/Kaalaharanamelara/Kaalaharanamelara.json not found.\n",
      "INFO: Metadata file /Volumes/MyPassport/mir_datasets/saraga1.5_carnatic/saraga1.5_carnatic/Kuldeep Pai at Arkay by Kuldeep Pai/Vasudeva Sutam Devam/Vasudeva Sutam Devam.json not found.\n",
      "INFO: Metadata file /Volumes/MyPassport/mir_datasets/saraga1.5_carnatic/saraga1.5_carnatic/Kuldeep Pai at Arkay by Kuldeep Pai/Brochevarevarura/Brochevarevarura.json not found.\n",
      "INFO: Metadata file /Volumes/MyPassport/mir_datasets/saraga1.5_carnatic/saraga1.5_carnatic/Kuldeep Pai at Arkay by Kuldeep Pai/Thappi Bratikipova/Thappi Bratikipova.json not found.\n",
      "INFO: Metadata file /Volumes/MyPassport/mir_datasets/saraga1.5_carnatic/saraga1.5_carnatic/Kuldeep Pai at Arkay by Kuldeep Pai/Krishna Nee Begane Baaro/Krishna Nee Begane Baaro.json not found.\n",
      "INFO: Metadata file /Volumes/MyPassport/mir_datasets/saraga1.5_carnatic/saraga1.5_carnatic/Kuldeep Pai at Arkay by Kuldeep Pai/Kari Kalabha Mukham/Kari Kalabha Mukham.json not found.\n",
      "INFO: Metadata file /Volumes/MyPassport/mir_datasets/saraga1.5_carnatic/saraga1.5_carnatic/V Shankarnarayanan at Arkay by V Shankaranarayanan/Muruga Muruga Muruga/Muruga Muruga Muruga.json not found.\n",
      "INFO: Metadata file /Volumes/MyPassport/mir_datasets/saraga1.5_carnatic/saraga1.5_carnatic/V Shankarnarayanan at Arkay by V Shankaranarayanan/Chenduril Nindradum Kanda/Chenduril Nindradum Kanda.json not found.\n",
      "INFO: Metadata file /Volumes/MyPassport/mir_datasets/saraga1.5_carnatic/saraga1.5_carnatic/V Shankarnarayanan at Arkay by V Shankaranarayanan/Ninne Bhajana/Ninne Bhajana.json not found.\n",
      "INFO: Metadata file /Volumes/MyPassport/mir_datasets/saraga1.5_carnatic/saraga1.5_carnatic/V Shankarnarayanan at Arkay by V Shankaranarayanan/Nera Nammiti/Nera Nammiti.json not found.\n",
      "INFO: Metadata file /Volumes/MyPassport/mir_datasets/saraga1.5_carnatic/saraga1.5_carnatic/V Shankarnarayanan at Arkay by V Shankaranarayanan/Dinamani Vamsa/Dinamani Vamsa.json not found.\n",
      "INFO: Metadata file /Volumes/MyPassport/mir_datasets/saraga1.5_carnatic/saraga1.5_carnatic/V Shankarnarayanan at Arkay by V Shankaranarayanan/Chakkani Raja/Chakkani Raja.json not found.\n",
      "INFO: Metadata file /Volumes/MyPassport/mir_datasets/saraga1.5_carnatic/saraga1.5_carnatic/V Shankarnarayanan at Arkay by V Shankaranarayanan/Ardhanareeshwaram/Ardhanareeshwaram.json not found.\n",
      "INFO: Metadata file /Volumes/MyPassport/mir_datasets/saraga1.5_carnatic/saraga1.5_carnatic/V Shankarnarayanan at Arkay by V Shankaranarayanan/Pavamana Suthudu Pattu/Pavamana Suthudu Pattu.json not found.\n",
      "INFO: Metadata file /Volumes/MyPassport/mir_datasets/saraga1.5_carnatic/saraga1.5_carnatic/V Shankarnarayanan at Arkay by V Shankaranarayanan/Shloka/Shloka.json not found.\n",
      "INFO: Metadata file /Volumes/MyPassport/mir_datasets/saraga1.5_carnatic/saraga1.5_carnatic/Sumithra Vasudev at Arkay by Sumithra Vasudev/Aaniraimekkani/Aaniraimekkani.json not found.\n",
      "INFO: Metadata file /Volumes/MyPassport/mir_datasets/saraga1.5_carnatic/saraga1.5_carnatic/Sumithra Vasudev at Arkay by Sumithra Vasudev/Vanajaksha Ninne Kori/Vanajaksha Ninne Kori.json not found.\n",
      "INFO: Metadata file /Volumes/MyPassport/mir_datasets/saraga1.5_carnatic/saraga1.5_carnatic/Sumithra Vasudev at Arkay by Sumithra Vasudev/Karuninchutakidi/Karuninchutakidi.json not found.\n",
      "INFO: Metadata file /Volumes/MyPassport/mir_datasets/saraga1.5_carnatic/saraga1.5_carnatic/Sumithra Vasudev at Arkay by Sumithra Vasudev/Va Va Brindavana/Va Va Brindavana.json not found.\n",
      "INFO: Metadata file /Volumes/MyPassport/mir_datasets/saraga1.5_carnatic/saraga1.5_carnatic/Sumithra Vasudev at Arkay by Sumithra Vasudev/Mati Matiki/Mati Matiki.json not found.\n",
      "INFO: Metadata file /Volumes/MyPassport/mir_datasets/saraga1.5_carnatic/saraga1.5_carnatic/Sumithra Vasudev at Arkay by Sumithra Vasudev/Sri Guru Na Palitosmi/Sri Guru Na Palitosmi.json not found.\n",
      "INFO: Metadata file /Volumes/MyPassport/mir_datasets/saraga1.5_carnatic/saraga1.5_carnatic/Sumithra Vasudev at Arkay by Sumithra Vasudev/Thoomani Madatthu/Thoomani Madatthu.json not found.\n",
      "INFO: Metadata file /Volumes/MyPassport/mir_datasets/saraga1.5_carnatic/saraga1.5_carnatic/Sumithra Vasudev at Arkay by Sumithra Vasudev/Ramabhi Rama Manasu/Ramabhi Rama Manasu.json not found.\n",
      "INFO: Metadata file /Volumes/MyPassport/mir_datasets/saraga1.5_carnatic/saraga1.5_carnatic/Sumithra Vasudev at Arkay by Sumithra Vasudev/Mangalam Kosalendraya/Mangalam Kosalendraya.json not found.\n",
      "INFO: Metadata file /Volumes/MyPassport/mir_datasets/saraga1.5_carnatic/saraga1.5_carnatic/Sumithra Vasudev at Arkay by Sumithra Vasudev/Sri Vidhya Rajagopala/Sri Vidhya Rajagopala.json not found.\n",
      "INFO: Metadata file /Volumes/MyPassport/mir_datasets/saraga1.5_carnatic/saraga1.5_carnatic/A V K Rajasimhan at Arkay by Angarai V K Rajasimhan/Shloka Sri Ramachandra Shrita Parijata/Shloka Sri Ramachandra Shrita Parijata.json not found.\n",
      "INFO: Metadata file /Volumes/MyPassport/mir_datasets/saraga1.5_carnatic/saraga1.5_carnatic/A V K Rajasimhan at Arkay by Angarai V K Rajasimhan/Nera Nammiti/Nera Nammiti.json not found.\n",
      "INFO: Metadata file /Volumes/MyPassport/mir_datasets/saraga1.5_carnatic/saraga1.5_carnatic/A V K Rajasimhan at Arkay by Angarai V K Rajasimhan/Sri Kantimatim/Sri Kantimatim.json not found.\n",
      "INFO: Metadata file /Volumes/MyPassport/mir_datasets/saraga1.5_carnatic/saraga1.5_carnatic/A V K Rajasimhan at Arkay by Angarai V K Rajasimhan/Athirum Kazhal/Athirum Kazhal.json not found.\n",
      "INFO: Metadata file /Volumes/MyPassport/mir_datasets/saraga1.5_carnatic/saraga1.5_carnatic/A V K Rajasimhan at Arkay by Angarai V K Rajasimhan/Siva Siva Siva Yenarada/Siva Siva Siva Yenarada.json not found.\n",
      "INFO: Metadata file /Volumes/MyPassport/mir_datasets/saraga1.5_carnatic/saraga1.5_carnatic/A V K Rajasimhan at Arkay by Angarai V K Rajasimhan/Kanukontini/Kanukontini.json not found.\n",
      "INFO: Metadata file /Volumes/MyPassport/mir_datasets/saraga1.5_carnatic/saraga1.5_carnatic/Manda Sudharani at Arkay by Manda Sudharani/Sami Dayajuda/Sami Dayajuda.json not found.\n",
      "INFO: Metadata file /Volumes/MyPassport/mir_datasets/saraga1.5_carnatic/saraga1.5_carnatic/Manda Sudharani at Arkay by Manda Sudharani/Giriraja Suta/Giriraja Suta.json not found.\n",
      "INFO: Metadata file /Volumes/MyPassport/mir_datasets/saraga1.5_carnatic/saraga1.5_carnatic/Manda Sudharani at Arkay by Manda Sudharani/Ananda Sagara/Ananda Sagara.json not found.\n",
      "INFO: Metadata file /Volumes/MyPassport/mir_datasets/saraga1.5_carnatic/saraga1.5_carnatic/Manda Sudharani at Arkay by Manda Sudharani/Bayarani Bhalite/Bayarani Bhalite.json not found.\n",
      "INFO: Metadata file /Volumes/MyPassport/mir_datasets/saraga1.5_carnatic/saraga1.5_carnatic/Manda Sudharani at Arkay by Manda Sudharani/Enta Bhagyamu/Enta Bhagyamu.json not found.\n",
      "INFO: Metadata file /Volumes/MyPassport/mir_datasets/saraga1.5_carnatic/saraga1.5_carnatic/Manda Sudharani at Arkay by Manda Sudharani/Budham Aashrayami/Budham Aashrayami.json not found.\n",
      "INFO: Metadata file /Volumes/MyPassport/mir_datasets/saraga1.5_carnatic/saraga1.5_carnatic/Manda Sudharani at Arkay by Manda Sudharani/Parama Pavana Rama/Parama Pavana Rama.json not found.\n",
      "INFO: Metadata file /Volumes/MyPassport/mir_datasets/saraga1.5_carnatic/saraga1.5_carnatic/Manda Sudharani at Arkay by Manda Sudharani/Pavamana Suthudu Mangalam/Pavamana Suthudu Mangalam.json not found.\n",
      "INFO: Metadata file /Volumes/MyPassport/mir_datasets/saraga1.5_carnatic/saraga1.5_carnatic/Manda Sudharani at Arkay by Manda Sudharani/Thillana Rageshri/Thillana Rageshri.json not found.\n",
      "INFO: Metadata file /Volumes/MyPassport/mir_datasets/saraga1.5_carnatic/saraga1.5_carnatic/Manda Sudharani at Arkay by Manda Sudharani/RTP Andholika/RTP Andholika.json not found.\n"
     ]
    },
    {
     "name": "stderr",
     "output_type": "stream",
     "text": [
      "INFO: Metadata file /Volumes/MyPassport/mir_datasets/saraga1.5_carnatic/saraga1.5_carnatic/Manda Sudharani at Arkay by Manda Sudharani/Sarasamukhi Sakala/Sarasamukhi Sakala.json not found.\n",
      "INFO: Metadata file /Volumes/MyPassport/mir_datasets/saraga1.5_carnatic/saraga1.5_carnatic/Srividya Janakiraman at Arkay by Srividya Janakiraman/Parvathi Ninu Ne Nera Nammithi/Parvathi Ninu Ne Nera Nammithi.json not found.\n",
      "INFO: Metadata file /Volumes/MyPassport/mir_datasets/saraga1.5_carnatic/saraga1.5_carnatic/Srividya Janakiraman at Arkay by Srividya Janakiraman/Nee Sari evvaramma/Nee Sari evvaramma.json not found.\n",
      "INFO: Metadata file /Volumes/MyPassport/mir_datasets/saraga1.5_carnatic/saraga1.5_carnatic/Srividya Janakiraman at Arkay by Srividya Janakiraman/Jaya Jaya Janaki Kantha/Jaya Jaya Janaki Kantha.json not found.\n",
      "INFO: Metadata file /Volumes/MyPassport/mir_datasets/saraga1.5_carnatic/saraga1.5_carnatic/Srividya Janakiraman at Arkay by Srividya Janakiraman/Santhamu leka Sowkyamu ledu/Santhamu leka Sowkyamu ledu.json not found.\n",
      "INFO: Metadata file /Volumes/MyPassport/mir_datasets/saraga1.5_carnatic/saraga1.5_carnatic/Srividya Janakiraman at Arkay by Srividya Janakiraman/Sarasuda Ninne Kori/Sarasuda Ninne Kori.json not found.\n",
      "INFO: Metadata file /Volumes/MyPassport/mir_datasets/saraga1.5_carnatic/saraga1.5_carnatic/Srividya Janakiraman at Arkay by Srividya Janakiraman/Gnanamosaga Rada/Gnanamosaga Rada.json not found.\n",
      "INFO: Metadata file /Volumes/MyPassport/mir_datasets/saraga1.5_carnatic/saraga1.5_carnatic/Srividya Janakiraman at Arkay by Srividya Janakiraman/Nenindal Agaadadu undo/Nenindal Agaadadu undo.json not found.\n",
      "INFO: Metadata file /Volumes/MyPassport/mir_datasets/saraga1.5_carnatic/saraga1.5_carnatic/Srividya Janakiraman at Arkay by Srividya Janakiraman/Sri Dundurge Siva Samsaare/Sri Dundurge Siva Samsaare.json not found.\n",
      "INFO: Metadata file /Volumes/MyPassport/mir_datasets/saraga1.5_carnatic/saraga1.5_carnatic/Rithvik Raja at Arkay by Rithvik Raja/Madhava Mamava/Rithvik Raja - Madhava Mamava.json not found.\n",
      "INFO: Metadata file /Volumes/MyPassport/mir_datasets/saraga1.5_carnatic/saraga1.5_carnatic/Rithvik Raja at Arkay by Rithvik Raja/Ramachandraya Mangalam/Rithvik Raja - Ramachandraya Mangalam.json not found.\n",
      "INFO: Metadata file /Volumes/MyPassport/mir_datasets/saraga1.5_carnatic/saraga1.5_carnatic/Rithvik Raja at Arkay by Rithvik Raja/Sapasyat Kausalya/Rithvik Raja - Sapasyat Kausalya.json not found.\n",
      "INFO: Metadata file /Volumes/MyPassport/mir_datasets/saraga1.5_carnatic/saraga1.5_carnatic/Rithvik Raja at Arkay by Rithvik Raja/Seetapati Namanasuna/Rithvik Raja - Seetapati Namanasuna.json not found.\n",
      "INFO: Metadata file /Volumes/MyPassport/mir_datasets/saraga1.5_carnatic/saraga1.5_carnatic/Rithvik Raja at Arkay by Rithvik Raja/Karunimpa Idi/Rithvik Raja - Karunimpa Idi.json not found.\n",
      "INFO: Metadata file /Volumes/MyPassport/mir_datasets/saraga1.5_carnatic/saraga1.5_carnatic/Rithvik Raja at Arkay by Rithvik Raja/Endaro Mahanubhavulu/Rithvik Raja - Endaro Mahanubhavulu.json not found.\n",
      "INFO: Metadata file /Volumes/MyPassport/mir_datasets/saraga1.5_carnatic/saraga1.5_carnatic/Rithvik Raja at Arkay by Rithvik Raja/Bhogeendra Shayinam/Rithvik Raja - Bhogeendra Shayinam.json not found.\n",
      "INFO: Metadata file /Volumes/MyPassport/mir_datasets/saraga1.5_carnatic/saraga1.5_carnatic/Rithvik Raja at Arkay by Rithvik Raja/Thillana Senchurutti/Rithvik Raja - Thillana Senchurutti.json not found.\n",
      "INFO: Metadata file /Volumes/MyPassport/mir_datasets/saraga1.5_carnatic/saraga1.5_carnatic/Rithvik Raja at Arkay by Rithvik Raja/Chintayama Kanda/Rithvik Raja - Chintayama Kanda.json not found.\n",
      "INFO: Metadata file /Volumes/MyPassport/mir_datasets/saraga1.5_carnatic/saraga1.5_carnatic/Rithvik Raja at Arkay by Rithvik Raja/Emani Migula/Rithvik Raja - Emani Migula.json not found.\n",
      "INFO: Metadata file /Volumes/MyPassport/mir_datasets/saraga1.5_carnatic/saraga1.5_carnatic/Rithvik Raja at Arkay by Rithvik Raja/Saraguna Palimpa/Rithvik Raja - Saraguna Palimpa.json not found.\n",
      "INFO: Metadata file /Volumes/MyPassport/mir_datasets/saraga1.5_carnatic/saraga1.5_carnatic/KP Nandini at Arkay by KP Nandini/Nadatanum Anisham/Nadatanum Anisham.json not found.\n",
      "INFO: Metadata file /Volumes/MyPassport/mir_datasets/saraga1.5_carnatic/saraga1.5_carnatic/KP Nandini at Arkay by KP Nandini/Seethamma/Seethamma.json not found.\n",
      "INFO: Metadata file /Volumes/MyPassport/mir_datasets/saraga1.5_carnatic/saraga1.5_carnatic/KP Nandini at Arkay by KP Nandini/Janakipathe Jaya Karunya Jaladhe/Janakipathe Jaya Karunya Jaladhe.json not found.\n",
      "INFO: Metadata file /Volumes/MyPassport/mir_datasets/saraga1.5_carnatic/saraga1.5_carnatic/KP Nandini at Arkay by KP Nandini/Eppadi Padinaro/Eppadi Padinaro.json not found.\n",
      "INFO: Metadata file /Volumes/MyPassport/mir_datasets/saraga1.5_carnatic/saraga1.5_carnatic/KP Nandini at Arkay by KP Nandini/Manasaramathi/Manasaramathi.json not found.\n",
      "INFO: Metadata file /Volumes/MyPassport/mir_datasets/saraga1.5_carnatic/saraga1.5_carnatic/KP Nandini at Arkay by KP Nandini/Tillana/Tillana.json not found.\n",
      "INFO: Metadata file /Volumes/MyPassport/mir_datasets/saraga1.5_carnatic/saraga1.5_carnatic/KP Nandini at Arkay by KP Nandini/Bhavamulona/Bhavamulona.json not found.\n",
      "INFO: Metadata file /Volumes/MyPassport/mir_datasets/saraga1.5_carnatic/saraga1.5_carnatic/KP Nandini at Arkay by KP Nandini/Ardhanarishwaram/Ardhanarishwaram.json not found.\n",
      "INFO: Metadata file /Volumes/MyPassport/mir_datasets/saraga1.5_carnatic/saraga1.5_carnatic/Chaitra Sairam at Arkay by Chaitra Sairam/Shri Subramanyaya Namaste/Chaitra Sairam - Shri Subramanyaya Namaste.json not found.\n",
      "INFO: Metadata file /Volumes/MyPassport/mir_datasets/saraga1.5_carnatic/saraga1.5_carnatic/Chaitra Sairam at Arkay by Chaitra Sairam/Mamava Pattabhi Rama/Chaitra Sairam - Mamava Pattabhi Rama.json not found.\n",
      "INFO: Metadata file /Volumes/MyPassport/mir_datasets/saraga1.5_carnatic/saraga1.5_carnatic/Chaitra Sairam at Arkay by Chaitra Sairam/Kamalamba Samrakshatu/Chaitra Sairam - Kamalamba Samrakshatu.json not found.\n",
      "INFO: Metadata file /Volumes/MyPassport/mir_datasets/saraga1.5_carnatic/saraga1.5_carnatic/Chaitra Sairam at Arkay by Chaitra Sairam/Govardhana Girisham/Chaitra Sairam - Govardhana Girisham.json not found.\n",
      "INFO: Metadata file /Volumes/MyPassport/mir_datasets/saraga1.5_carnatic/saraga1.5_carnatic/Chaitra Sairam at Arkay by Chaitra Sairam/Ardhanareeshwaram/Chaitra Sairam - Ardhanareeshwaram.json not found.\n",
      "INFO: Metadata file /Volumes/MyPassport/mir_datasets/saraga1.5_carnatic/saraga1.5_carnatic/Chaitra Sairam at Arkay by Chaitra Sairam/Anandaamrutakarshini/Chaitra Sairam - Anandaamrutakarshini.json not found.\n",
      "INFO: Metadata file /Volumes/MyPassport/mir_datasets/saraga1.5_carnatic/saraga1.5_carnatic/Chaitra Sairam at Arkay by Chaitra Sairam/Rakta Ganapatim/Chaitra Sairam - Rakta Ganapatim.json not found.\n",
      "INFO: Metadata file /Volumes/MyPassport/mir_datasets/saraga1.5_carnatic/saraga1.5_carnatic/Chaitra Sairam at Arkay by Chaitra Sairam/Gange Maampahi/Chaitra Sairam - Gange Maampahi.json not found.\n"
     ]
    }
   ],
   "source": [
    "all_tracks = saraga.load_tracks()"
   ]
  },
  {
   "cell_type": "markdown",
   "id": "advisory-musical",
   "metadata": {
    "id": "advisory-musical"
   },
   "source": [
    "This returns a dict of `unique track identifier` : `track` object for each track."
   ]
  },
  {
   "cell_type": "markdown",
   "id": "balanced-penguin",
   "metadata": {
    "id": "balanced-penguin"
   },
   "source": [
    "Track objects contain all filepaths of audios and metadata associated with the chosen track, and some information related to the recording itself (such as artist names and instruments). Remember, that for many recordings, we have 4 audio files relevant to our task...\n",
    "\n",
    "\n",
    "The path of the final mixed performance:"
   ]
  },
  {
   "cell_type": "code",
   "execution_count": null,
   "id": "measured-leadership",
   "metadata": {
    "id": "measured-leadership",
    "outputId": "6d233716-ca5d-410b-ef12-598a07e438c8"
   },
   "outputs": [
    {
     "data": {
      "text/plain": [
       "'/Volumes/MyPassport/mir_datasets2/saraga1.5_carnatic/saraga1.5_carnatic/Sumithra Vasudev at Arkay by Sumithra Vasudev/Mati Matiki/Mati Matiki.mp3.mp3'"
      ]
     },
     "execution_count": 206,
     "metadata": {},
     "output_type": "execute_result"
    }
   ],
   "source": [
    "example_track.audio_path"
   ]
  },
  {
   "cell_type": "markdown",
   "id": "friendly-nickel",
   "metadata": {
    "id": "friendly-nickel"
   },
   "source": [
    "The path of the vocal microphone:"
   ]
  },
  {
   "cell_type": "code",
   "execution_count": null,
   "id": "straight-drinking",
   "metadata": {
    "id": "straight-drinking",
    "outputId": "212bce2b-3f1b-44b6-98e7-86acc1a3384d"
   },
   "outputs": [
    {
     "data": {
      "text/plain": [
       "'/Volumes/MyPassport/mir_datasets2/saraga1.5_carnatic/saraga1.5_carnatic/Sumithra Vasudev at Arkay by Sumithra Vasudev/Mati Matiki/Mati Matiki.multitrack-vocal.mp3'"
      ]
     },
     "execution_count": 205,
     "metadata": {},
     "output_type": "execute_result"
    }
   ],
   "source": [
    "example_track.audio_vocal_path"
   ]
  },
  {
   "cell_type": "markdown",
   "id": "specialized-memory",
   "metadata": {
    "id": "specialized-memory"
   },
   "source": [
    "The path of the violin microphone:"
   ]
  },
  {
   "cell_type": "code",
   "execution_count": null,
   "id": "stable-religious",
   "metadata": {
    "id": "stable-religious",
    "outputId": "4a82a579-3523-48b4-d440-d99a8224a761"
   },
   "outputs": [
    {
     "data": {
      "text/plain": [
       "'/Volumes/MyPassport/mir_datasets2/saraga1.5_carnatic/saraga1.5_carnatic/Sumithra Vasudev at Arkay by Sumithra Vasudev/Mati Matiki/Mati Matiki.multitrack-violin.mp3'"
      ]
     },
     "execution_count": 208,
     "metadata": {},
     "output_type": "execute_result"
    }
   ],
   "source": [
    "example_track.audio_violin_path"
   ]
  },
  {
   "cell_type": "markdown",
   "id": "understanding-wagon",
   "metadata": {
    "id": "understanding-wagon"
   },
   "source": [
    "And two mridangam microphones (one for each head):"
   ]
  },
  {
   "cell_type": "code",
   "execution_count": null,
   "id": "union-turning",
   "metadata": {
    "id": "union-turning",
    "outputId": "c1ebc9fe-825d-4ef3-c0e8-58212293c5b5"
   },
   "outputs": [
    {
     "data": {
      "text/plain": [
       "'/Volumes/MyPassport/mir_datasets2/saraga1.5_carnatic/saraga1.5_carnatic/Sumithra Vasudev at Arkay by Sumithra Vasudev/Mati Matiki/Mati Matiki.multitrack-mridangam-left.mp3'"
      ]
     },
     "execution_count": 209,
     "metadata": {},
     "output_type": "execute_result"
    }
   ],
   "source": [
    "example_track.audio_mridangam_left_path"
   ]
  },
  {
   "cell_type": "code",
   "execution_count": null,
   "id": "documented-oliver",
   "metadata": {
    "id": "documented-oliver",
    "outputId": "9711c01d-211d-4afb-9135-ae74cd011cee"
   },
   "outputs": [
    {
     "data": {
      "text/plain": [
       "'/Volumes/MyPassport/mir_datasets2/saraga1.5_carnatic/saraga1.5_carnatic/Sumithra Vasudev at Arkay by Sumithra Vasudev/Mati Matiki/Mati Matiki.multitrack-mridangam-right.mp3'"
      ]
     },
     "execution_count": 210,
     "metadata": {},
     "output_type": "execute_result"
    }
   ],
   "source": [
    "example_track.audio_mridangam_right_path"
   ]
  },
  {
   "cell_type": "markdown",
   "id": "embedded-picnic",
   "metadata": {
    "id": "embedded-picnic"
   },
   "source": [
    "Navigate to these files and listen to the audios. What do you notice about them? Are they the same intensity? Is there any undesirable artifacts such as leaking or noise?\n",
    "\n",
    "Take note, the `mirdata` `Track` object will not have a `audio_vocal_path` (or vocal or mridangam) attribute if for the given track there is no multi-microphone recordings. Can you use this information to determine how many tracks we have multi-microphone recordings for? (HINT: You can check if an object has a specific attribute using the hasattr function: `hasattr(obj, \"<attribute_to_check_for>\")`."
   ]
  },
  {
   "cell_type": "code",
   "execution_count": null,
   "id": "sweet-focus",
   "metadata": {
    "id": "sweet-focus"
   },
   "outputs": [],
   "source": [
    "# How many tracks with multitrack recordings?"
   ]
  },
  {
   "cell_type": "markdown",
   "id": "talented-guess",
   "metadata": {
    "id": "talented-guess"
   },
   "source": [
    "Another important path is the metadata_path:"
   ]
  },
  {
   "cell_type": "code",
   "execution_count": null,
   "id": "angry-sheffield",
   "metadata": {
    "id": "angry-sheffield"
   },
   "outputs": [],
   "source": [
    "metadata_path = example_track.metadata_path"
   ]
  },
  {
   "cell_type": "markdown",
   "id": "residential-activation",
   "metadata": {
    "id": "residential-activation"
   },
   "source": [
    "Here you will find information relating to the recording such as artist names, instruments, raaga."
   ]
  },
  {
   "cell_type": "markdown",
   "id": "major-university",
   "metadata": {
    "id": "major-university"
   },
   "source": [
    "Can you create some functions to explore these tracks and metadata? Perhaps it would be useful to know that JSON can be loaded in python using the `json` library:"
   ]
  },
  {
   "cell_type": "code",
   "execution_count": null,
   "id": "broken-section",
   "metadata": {
    "id": "broken-section"
   },
   "outputs": [],
   "source": [
    "import json\n",
    "\n",
    "with open(json_path, 'r') as f:\n",
    "    loaded_json = json.loads(f.read())"
   ]
  },
  {
   "cell_type": "code",
   "execution_count": null,
   "id": "unique-lobby",
   "metadata": {
    "id": "unique-lobby"
   },
   "outputs": [],
   "source": [
    "def get_metadata(track_id):\n",
    "    \"\"\"\n",
    "    For <track_id>, return a dataframe of associated metadata\n",
    "    \"\"\"\n",
    "    # code here\n",
    "    return metadata\n",
    "\n",
    "def get_performer(track_id):\n",
    "    \"\"\"\n",
    "    For <track_id>, return the performer\n",
    "    \"\"\"\n",
    "    # code here\n",
    "    return performer\n",
    "\n",
    "def get_performance(track_id):\n",
    "    \"\"\"\n",
    "    For <track_id>, return the performance name\n",
    "    \"\"\"\n",
    "    # code here\n",
    "    return performance\n",
    "\n",
    "def get_raga(track_id):\n",
    "    \"\"\"\n",
    "    For <track_id>, return the raga name\n",
    "    \"\"\"\n",
    "    # code here\n",
    "    return raga\n",
    "\n",
    "\n",
    "def get_tonic(track_id):\n",
    "    \"\"\"\n",
    "    For <track_id>, return the tonic in hertz\n",
    "    \"\"\"\n",
    "    # code here\n",
    "    return tonic"
   ]
  },
  {
   "cell_type": "markdown",
   "id": "pursuant-battlefield",
   "metadata": {
    "id": "pursuant-battlefield"
   },
   "source": [
    "How many ragas/performers/performances are available? How does that breakdown across performances for which we have multi-track recordings and those we dont?"
   ]
  },
  {
   "cell_type": "code",
   "execution_count": null,
   "id": "simplified-forty",
   "metadata": {
    "id": "simplified-forty"
   },
   "outputs": [],
   "source": [
    "# get dataset statistics"
   ]
  },
  {
   "cell_type": "markdown",
   "id": "e9756db3",
   "metadata": {
    "id": "e9756db3"
   },
   "source": [
    "### Load Audio"
   ]
  },
  {
   "cell_type": "markdown",
   "id": "favorite-auction",
   "metadata": {
    "id": "favorite-auction"
   },
   "source": [
    "The mirdata API returns paths to audio files associated with each track. Can you create some loaders to load an audio based on a given track name?\n",
    "\n",
    "**Hint**: The `librosa` library contains functions to load audio from file to an array of amplitude values. `y, sr = librosa.load(audio_path, sr=44100)`. `sr` in this instance refers to the sampling rate of the audio, i.e. how many individual amplitude energy values there are per second (typically 44100Hz). It is important to remember this resolution when converting between number of elements in the returned array and time in the track."
   ]
  },
  {
   "cell_type": "code",
   "execution_count": null,
   "id": "legendary-imaging",
   "metadata": {
    "id": "legendary-imaging"
   },
   "outputs": [],
   "source": [
    "def load_mixed_audio(track_id):\n",
    "    \"\"\"\n",
    "    For <track_id>, return the loaded audio\n",
    "    \"\"\"\n",
    "    # code here\n",
    "    return audio_array\n",
    "\n",
    "def load_violin_audio(track_id):\n",
    "    \"\"\"\n",
    "    For <track_id>, return the isolated violin track\n",
    "    \"\"\"\n",
    "    # code here\n",
    "    return audio_array\n",
    "\n",
    "def load_voice_audio(track_id):\n",
    "    \"\"\"\n",
    "    For <track_id>, return the isolated voice track\n",
    "    \"\"\"\n",
    "    # code here\n",
    "    return audio_array\n",
    "\n",
    "def load_mridangam_audio(track_id):\n",
    "    \"\"\"\n",
    "    For <track_id>, return the isolated mridangam track\n",
    "    \"\"\"\n",
    "    # code here\n",
    "    return audio_array"
   ]
  },
  {
   "cell_type": "markdown",
   "id": "genetic-hours",
   "metadata": {
    "id": "genetic-hours"
   },
   "source": [
    "### Listen to Audio"
   ]
  },
  {
   "cell_type": "markdown",
   "id": "complex-beverage",
   "metadata": {
    "id": "complex-beverage"
   },
   "source": [
    "Let's write some functions to listen and visualise these audio arrays in the notebook.\n",
    "\n",
    "**Hint**: You should find that the `Ipythoon.display.Audio` useful for playing audio inline in a Jupyter notebook.\n",
    "\n",
    "**Hint2**: Using the `matplotlib` library you can plot on two dimensions as so:\n",
    "\n",
    "```\n",
    "import matplotlib.pyplot as plt\n",
    "\n",
    "plt.plot(x, y)\n",
    "```\n",
    "More information on enhancing these plots (e.g. with titles, axis labels and gridlines) can be found [here](https://matplotlib.org/stable/gallery/lines_bars_and_markers/simple_plot.html)."
   ]
  },
  {
   "cell_type": "code",
   "execution_count": null,
   "id": "chinese-virtue",
   "metadata": {
    "id": "chinese-virtue"
   },
   "outputs": [],
   "source": [
    "def plot_waveform(audio_array):\n",
    "    \"\"\"\n",
    "    Plot waveform for <audio_array> using matplotlib.pyplot\n",
    "    \"\"\"\n",
    "    pass\n",
    "\n",
    "\n",
    "def play_audio(audio_array):\n",
    "    \"\"\"\n",
    "    Generate audio player for <audio_array> using Ipython library\n",
    "    \"\"\"\n",
    "    pass"
   ]
  },
  {
   "cell_type": "markdown",
   "id": "spectacular-cornell",
   "metadata": {
    "id": "spectacular-cornell"
   },
   "source": [
    "Are there any important observations about the mixed or isolated instrument tracks? What is the quality like, do you here all of the instruments clearly? Are there any differences between the audios of the individual instrument tracks?"
   ]
  },
  {
   "cell_type": "markdown",
   "id": "naked-currency",
   "metadata": {
    "id": "naked-currency"
   },
   "source": [
    "### Processing"
   ]
  },
  {
   "cell_type": "markdown",
   "id": "alive-lease",
   "metadata": {
    "id": "alive-lease"
   },
   "source": [
    "Are the isolated vocal tracks sufficiently isolated? Libraries like [`spleeter`](https://github.com/deezer/spleeter) can help separate singing sources from background instruments. Does it help here?"
   ]
  },
  {
   "cell_type": "code",
   "execution_count": null,
   "id": "intellectual-earth",
   "metadata": {
    "id": "intellectual-earth"
   },
   "outputs": [],
   "source": [
    "def separate_voice(audio_path, isolated_audio_output_path):\n",
    "    \"\"\"\n",
    "    Apply spleeter source separation to input audio\n",
    "    \"\"\"\n",
    "    pass"
   ]
  },
  {
   "cell_type": "markdown",
   "id": "appropriate-forum",
   "metadata": {
    "id": "appropriate-forum"
   },
   "source": [
    "How does the quality compare? Does spleeter work effectively? Do we lose any important information?"
   ]
  },
  {
   "cell_type": "markdown",
   "id": "promotional-november",
   "metadata": {
    "id": "promotional-november"
   },
   "source": [
    "### Tagging Audio"
   ]
  },
  {
   "cell_type": "markdown",
   "id": "configured-genius",
   "metadata": {
    "id": "configured-genius"
   },
   "source": [
    "We want to tag our audios with whether or not a particular instrument is sounding. We can do this by identifying non-silent regions in the isolated tracks and tagging the mixed tracks with the instrument. The `librosa` library contains functionality for identifying silent regions in audio (`librosa.effects.split`)."
   ]
  },
  {
   "cell_type": "code",
   "execution_count": null,
   "id": "dramatic-rough",
   "metadata": {
    "id": "dramatic-rough"
   },
   "outputs": [],
   "source": [
    "# Load audios for each instrument track using previously defined functions"
   ]
  },
  {
   "cell_type": "code",
   "execution_count": null,
   "id": "alternate-america",
   "metadata": {
    "id": "alternate-america"
   },
   "outputs": [],
   "source": [
    "# Plot samples of audios (remember the relationship between elements and sampling rate)"
   ]
  },
  {
   "cell_type": "markdown",
   "id": "charged-university",
   "metadata": {
    "id": "charged-university"
   },
   "source": [
    "Define a function to identify silent regions in an audio array. Look at the documentation for `librosa.effects.split` ([here](https://librosa.org/doc/main/generated/librosa.effects.split.html)).\n",
    "\n",
    "**Hint** - The `top_db` parameter tunes the harshness of the cut (a higher value considers louder regions as \"silent\"). Experiment with this value and compare the results with the audio plots. Do they correspond to what you visualise/hear?\n",
    "\n",
    "**Remember** - `librosa.effects.split` returns NON-silent intervals."
   ]
  },
  {
   "cell_type": "code",
   "execution_count": null,
   "id": "cardiac-webster",
   "metadata": {
    "id": "cardiac-webster"
   },
   "outputs": [],
   "source": [
    "def detect_silence(audio_array):\n",
    "    \"\"\"\n",
    "    Return array of 0 and 1 (is silent/is not silent) for input <audio_array>. Returned array should\n",
    "    be equal in length to input array\n",
    "    \"\"\"\n",
    "    return is_silent"
   ]
  },
  {
   "cell_type": "markdown",
   "id": "signed-parish",
   "metadata": {
    "id": "signed-parish"
   },
   "source": [
    "Do these regions correspond to what you hear when playing the audio with `play_audio` or what you see with `plot_waveform`?"
   ]
  },
  {
   "cell_type": "code",
   "execution_count": null,
   "id": "circular-behalf",
   "metadata": {
    "id": "circular-behalf"
   },
   "outputs": [],
   "source": [
    "mridangam = [int(x or y) for x,y in zip(y_mridangam_left, y_mridangam_right)]"
   ]
  },
  {
   "cell_type": "markdown",
   "id": "loose-venue",
   "metadata": {
    "id": "loose-venue"
   },
   "source": [
    "### Extracting Samples"
   ]
  },
  {
   "cell_type": "markdown",
   "id": "pending-court",
   "metadata": {
    "id": "pending-court"
   },
   "source": [
    "We should now have all the tools necessary to load and annotated audio. We now want to extract small snippets of audio  from the mixed tracks across the dataset and annotate each of these snippets as either containing voice, mridangam, violin or none of the above (a single audio should be able to have more than one tag).\n",
    "\n",
    "It is important that we have examples for all combinations of tags (violin, voice, mridangam, none). Each sample should be of the same length (what should that length be? think about the two extreme cases of very very short and very long, what problems would arise in each of these cases).\n",
    "\n",
    "Each sample should have a unique identifier (index). The information relating to their tags should be stored in a metadata DataFrame where you can also find information about the performance.\n",
    "\n",
    "These should all be saved in individual audio files.\n",
    "\n",
    "Let us try with just on track to begin with..."
   ]
  },
  {
   "cell_type": "markdown",
   "id": "skilled-design",
   "metadata": {
    "id": "skilled-design"
   },
   "source": [
    "1. For a certain track id, load all audio files (mix, violin, etc...)"
   ]
  },
  {
   "cell_type": "code",
   "execution_count": null,
   "id": "severe-andrew",
   "metadata": {
    "id": "severe-andrew"
   },
   "outputs": [],
   "source": [
    "# mix_array =\n",
    "# vocal_array =\n",
    "# violin_array =\n",
    "# vocal_array =\n",
    "# mridangam_left_array =\n",
    "# mridangam_right_array ="
   ]
  },
  {
   "cell_type": "markdown",
   "id": "latter-radius",
   "metadata": {
    "id": "latter-radius"
   },
   "source": [
    "2. Create a silent/non-silent array using `detect_silence()` defined earlier.\n",
    "\n",
    "      **Remember**: The mridangam has two tracks corresponding to it, you must combine them to identify whether either is sounding"
   ]
  },
  {
   "cell_type": "code",
   "execution_count": null,
   "id": "deadly-session",
   "metadata": {
    "id": "deadly-session"
   },
   "outputs": [],
   "source": [
    "# violin_silence =\n",
    "# vocal_silence =\n",
    "# mridangam_silnce ="
   ]
  },
  {
   "cell_type": "markdown",
   "id": "secure-basin",
   "metadata": {
    "id": "secure-basin"
   },
   "source": [
    "3. Split mixed audio into small chunks using [numpy array indexing](https://numpy.org/doc/stable/user/basics.indexing.html) (the size of these chunks should be informed by the literature)"
   ]
  },
  {
   "cell_type": "code",
   "execution_count": null,
   "id": "distinct-cover",
   "metadata": {
    "id": "distinct-cover"
   },
   "outputs": [],
   "source": []
  },
  {
   "cell_type": "markdown",
   "id": "worst-horizon",
   "metadata": {
    "id": "worst-horizon"
   },
   "source": [
    "4. Determine from your silent/non-silent arrays in Step 2 whether the chunk contains each instrument (voice, vocal, mridangam"
   ]
  },
  {
   "cell_type": "code",
   "execution_count": null,
   "id": "missing-simpson",
   "metadata": {
    "id": "missing-simpson"
   },
   "outputs": [],
   "source": [
    "# Slice silence arrays identically to mix slice and determine yes/no does chunk contain instrument"
   ]
  },
  {
   "cell_type": "markdown",
   "id": "passive-congress",
   "metadata": {
    "id": "passive-congress"
   },
   "source": [
    "5. Save each audio with a unique index.\n",
    "\n",
    "    **Hint**: Audio arrays can be saved to file using the `soundfile` library:\n",
    "    `sf.write('<filename>.wav', <audio_array>, <sampling rate>)`\n",
    "    \n",
    "    **Remember**: Each audio chunk  needs to be assigned a unique index so as to be managed correctly later on. Feel free to use numbers, hashes or uuids"
   ]
  },
  {
   "cell_type": "code",
   "execution_count": null,
   "id": "suited-consultancy",
   "metadata": {
    "id": "suited-consultancy"
   },
   "outputs": [],
   "source": [
    "# store audio with soundfile"
   ]
  },
  {
   "cell_type": "markdown",
   "id": "false-rebate",
   "metadata": {
    "id": "false-rebate"
   },
   "source": [
    "6. Add row to metadata table containing relevant track information, index, and instrument annotations.\n",
    "\n",
    "    **Hint** - A `pandas` dataframe is a suitable place to store information relating to track and instrument annotations. You can create one using:\n",
    "\n",
    "    `import pandas as pd`\n",
    "\n",
    "    `df = pd.DataFrame(columns=<list of columns names>])`\n",
    "    \n",
    "    Add new rows using append:\n",
    "    \n",
    "    `df.append({dict of {column_name:value>, ignore_index=True)`\n",
    "    \n",
    "    And save using:\n",
    "    \n",
    "    `df.to_csv('<path.csv>', index=False)`\n",
    "    \n",
    "    **Remember** - This table should include the metadata relating to the track, the unique chunk index and a column indicating whether or not it includes each instrument\n",
    "    "
   ]
  },
  {
   "cell_type": "code",
   "execution_count": null,
   "id": "desperate-technique",
   "metadata": {
    "id": "desperate-technique"
   },
   "outputs": [],
   "source": [
    "# metadata dataframe"
   ]
  },
  {
   "cell_type": "markdown",
   "id": "continued-diana",
   "metadata": {
    "id": "continued-diana"
   },
   "source": [
    "7. Repeat for many tracks and many chunks. Now you have written the individual code to do this for one track/chunk. Let's combine this and apply to a large number of tracks/chunks. Storing each with a unique index and a row in the metadata dataframe."
   ]
  },
  {
   "cell_type": "markdown",
   "id": "boolean-validation",
   "metadata": {
    "id": "boolean-validation"
   },
   "source": [
    "### Load Dataset"
   ]
  },
  {
   "cell_type": "markdown",
   "id": "perfect-ocean",
   "metadata": {
    "id": "perfect-ocean"
   },
   "source": [
    "With our dataset created and saved in an intuitive and accessible format. Let's create some loaders to load the files and get metadata."
   ]
  },
  {
   "cell_type": "code",
   "execution_count": null,
   "id": "81dbad83",
   "metadata": {
    "id": "81dbad83"
   },
   "outputs": [],
   "source": [
    "def load_sample(index):\n",
    "    \"\"\"\n",
    "    Load sample with index, <index>\n",
    "    \"\"\"\n",
    "    return sample\n",
    "\n",
    "def get_metadata(index):\n",
    "    \"\"\"\n",
    "    Get metadata for sample with index, <index>\n",
    "    \"\"\"\n",
    "    return sample"
   ]
  },
  {
   "cell_type": "markdown",
   "id": "turkish-concert",
   "metadata": {
    "id": "turkish-concert"
   },
   "source": [
    "Typically, when datasets are presented, they are accompanied by some stats detailing their size and constiuent parts. What stats can you tell us about our dataset? Think about: number of seconds, performers, performances, instruments, ragas, filesizes etc...."
   ]
  },
  {
   "cell_type": "code",
   "execution_count": null,
   "id": "featured-opera",
   "metadata": {
    "id": "featured-opera"
   },
   "outputs": [],
   "source": [
    "# stats"
   ]
  },
  {
   "cell_type": "markdown",
   "id": "swiss-match",
   "metadata": {
    "id": "swiss-match"
   },
   "source": [
    "### Reproducible Code"
   ]
  },
  {
   "cell_type": "markdown",
   "id": "small-chicago",
   "metadata": {
    "id": "small-chicago"
   },
   "source": [
    "Jupyter notebooks are great for experimenting, especially when visualisation or audio playback is required. However they are not great for reproducibility or source control. Can you abstract the code created here to .py file(s) so that the code can be ran in future without having to load the HTML notebook?"
   ]
  }
 ],
 "metadata": {
  "colab": {
   "provenance": []
  },
  "kernelspec": {
   "display_name": "Python 3",
   "language": "python",
   "name": "python3"
  },
  "language_info": {
   "codemirror_mode": {
    "name": "ipython",
    "version": 3
   },
   "file_extension": ".py",
   "mimetype": "text/x-python",
   "name": "python",
   "nbconvert_exporter": "python",
   "pygments_lexer": "ipython3",
   "version": "3.11.9"
  }
 },
 "nbformat": 4,
 "nbformat_minor": 5
}
